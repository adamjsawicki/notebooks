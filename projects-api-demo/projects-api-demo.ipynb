{
 "cells": [
  {
   "cell_type": "markdown",
   "metadata": {},
   "source": [
    "# CarbonPlan Reports API Demo\n",
    "\n",
    "This notebook demonstrates how to use CarbonPlan's API to access and analyze project reports."
   ]
  },
  {
   "cell_type": "code",
   "execution_count": null,
   "metadata": {},
   "outputs": [],
   "source": [
    "import requests\n",
    "import pandas as pd\n",
    "import altair as alt\n",
    "\n",
    "from IPython.display import JSON"
   ]
  },
  {
   "cell_type": "markdown",
   "metadata": {},
   "source": [
    "### Schema\n",
    "\n",
    "All API access is over HTTPS, and accessed from https://api.carbonplan.or. All data is sent and received as JSON. The full schema is available via the API: "
   ]
  },
  {
   "cell_type": "code",
   "execution_count": null,
   "metadata": {},
   "outputs": [],
   "source": [
    "schema = requests.get('https://api.carbonplan.now.sh/schema.json').json()\n",
    "\n",
    "# list objects defined in CarbonPlan's schema\n",
    "JSON(schema)"
   ]
  },
  {
   "cell_type": "code",
   "execution_count": null,
   "metadata": {},
   "outputs": [],
   "source": [
    "# or get the full schema for a specific object\n",
    "schema = requests.get('https://api.carbonplan.now.sh/schema/ProjectCollection.json').json()\n",
    "JSON(schema)"
   ]
  },
  {
   "cell_type": "markdown",
   "metadata": {},
   "source": [
    "### Projects\n",
    "\n",
    "CarbonPlan's full ProjectCollection is available at https://api.carbonplan.org/projects.json:"
   ]
  },
  {
   "cell_type": "code",
   "execution_count": null,
   "metadata": {},
   "outputs": [],
   "source": [
    "project_collection = requests.get('https://api.carbonplan.now.sh/projects.json').json()\n",
    "JSON(project_collection, root='project_collection')"
   ]
  },
  {
   "cell_type": "markdown",
   "metadata": {},
   "source": [
    "Individual projects can be requested using query parameters. In the example below, we point our API request at `id=STRP01`:"
   ]
  },
  {
   "cell_type": "code",
   "execution_count": null,
   "metadata": {},
   "outputs": [],
   "source": [
    "one_project = requests.get('https://api.carbonplan.now.sh/projects.json?id=STRP01').json()\n",
    "JSON(one_project)"
   ]
  },
  {
   "cell_type": "markdown",
   "metadata": {},
   "source": [
    "The Projects data is also available in CSV format: https://api.carbonplan.org/projects.csv"
   ]
  },
  {
   "cell_type": "code",
   "execution_count": null,
   "metadata": {},
   "outputs": [],
   "source": [
    "projects = pd.read_csv('https://api-git-feature-csv.carbonplan.now.sh/projects.csv', index_col='name')\n",
    "projects.head()"
   ]
  },
  {
   "cell_type": "markdown",
   "metadata": {},
   "source": [
    "### Sample Analysis\n",
    "\n",
    "Now that we've gone over how to access CarbonPlan's API, we can turn to some sample analysis. Here we'll simply take the full project collection as read from the CSV endpoint above."
   ]
  },
  {
   "cell_type": "code",
   "execution_count": null,
   "metadata": {},
   "outputs": [],
   "source": [
    "metrics = ['cost', 'volume', 'negativity', 'permanence']\n",
    "metrics_df = pd.DataFrame.from_dict({m: projects[f\"('{m}', 'value')\"] for m in metrics})\n",
    "metrics_df['tag'] = projects[\"('tag', 0)\"]\n",
    "metrics_df.head()"
   ]
  },
  {
   "cell_type": "markdown",
   "metadata": {},
   "source": [
    "From here, we can start doing some real analysis and data visualization with our metrics `DataFrame`.\n",
    "\n",
    "In the section below, we'll make a few of charts that are shown on https://reports.carbonplan.org. We use [Altair](https://altair-viz.github.io/) to make a few interactive vizualizations."
   ]
  },
  {
   "cell_type": "code",
   "execution_count": null,
   "metadata": {},
   "outputs": [],
   "source": [
    "colors = {\n",
    "    'mineralization': '#a9b4c4',\n",
    "    'soil': '#ea9755',\n",
    "    'biomass': '#d4c05e',\n",
    "    'forests': '#7eb36a',\n",
    "    'ocean': '#64b9c4',\n",
    "    'dac': '#bc85d9'\n",
    "}\n",
    "color_scale = alt.Color('tag:N', scale=alt.Scale(domain=list(colors.keys()), range=list(colors.values())))\n",
    "tooltip = ['name', 'volume', 'cost', 'permanence', 'negativity']"
   ]
  },
  {
   "cell_type": "code",
   "execution_count": null,
   "metadata": {},
   "outputs": [],
   "source": [
    "# selectors\n",
    "brush = alt.selection_interval(encodings=['x', 'y'])\n",
    "click = alt.selection_multi()\n",
    "\n",
    "# chart\n",
    "chart = alt.Chart(metrics_df.reset_index()).mark_circle(size=200).encode(\n",
    "    color=color_scale,\n",
    "    opacity=alt.condition(brush | click, alt.OpacityValue(1), alt.OpacityValue(0.4)),\n",
    "    tooltip=tooltip\n",
    ").properties(\n",
    "    width=250,\n",
    "    height=250\n",
    ").add_selection(\n",
    "    brush, click\n",
    ")\n",
    "\n",
    "# hconcat\n",
    "(\n",
    "    chart.encode(\n",
    "        alt.X('cost', axis=alt.Axis(title='COST $/tCO2', tickCount=3), scale=alt.Scale(type='log', domain=[2, 2000], nice=False)),\n",
    "        alt.Y('tag', axis=alt.Axis(title=''))\n",
    "    ) |\n",
    "    chart.encode(\n",
    "        alt.X('volume', axis=alt.Axis(title='VOLUME tCO2', tickCount=3), scale=alt.Scale(type='log', domain=[2, 100000000])),\n",
    "        alt.Y('tag', axis=alt.Axis(title=''))\n",
    "    ) |\n",
    "    chart.encode(\n",
    "        alt.X('negativity', axis=alt.Axis(title='NEGATIVITY', tickCount=2), scale=alt.Scale(domain=[-0.1, 1.1])),\n",
    "        alt.Y('tag', axis=alt.Axis(title=''))\n",
    "    ) |\n",
    "    chart.encode(\n",
    "        alt.X('permanence', axis=alt.Axis(title='PERMANENCE years', tickCount=3), scale=alt.Scale(type='log', domain=[0.6, 2000], nice=False)),\n",
    "        alt.Y('tag', axis=alt.Axis(title='')))\n",
    ").configure_axis(grid=False).resolve_scale(\n",
    "    y='shared'\n",
    ")"
   ]
  },
  {
   "cell_type": "markdown",
   "metadata": {},
   "source": [
    "We can also explore interactions among variables:"
   ]
  },
  {
   "cell_type": "code",
   "execution_count": null,
   "metadata": {},
   "outputs": [],
   "source": [
    "# chart\n",
    "chart = alt.Chart(metrics_df.reset_index()).mark_circle(size=200).encode(\n",
    "    color=color_scale,\n",
    "    opacity=alt.condition(brush | click, alt.OpacityValue(1), alt.OpacityValue(0.4)),\n",
    "    tooltip=tooltip\n",
    ").properties(\n",
    "    width=250,\n",
    "    height=250\n",
    ").add_selection(\n",
    "    brush, click\n",
    ")\n",
    "\n",
    "# hconcat\n",
    "(\n",
    "    chart.encode(\n",
    "        alt.X('volume', axis=alt.Axis(title='VOLUME tCO2', tickCount=3), scale=alt.Scale(type='log', domain=[2, 100000000])),\n",
    "        alt.Y('cost', axis=alt.Axis(title='COST $/tCO2', tickCount=3), scale=alt.Scale(type='log', domain=[2, 2000], nice=False)),\n",
    "    ) |\n",
    "    chart.encode(\n",
    "        alt.X('permanence', axis=alt.Axis(title='PERMANENCE years', tickCount=3), scale=alt.Scale(type='log', domain=[0.6, 2000], nice=False)),\n",
    "        alt.Y('cost', axis=alt.Axis(title='COST $/tCO2', tickCount=3), scale=alt.Scale(type='log', domain=[2, 2000], nice=False)))\n",
    ").configure_axis(grid=False).resolve_scale(\n",
    "    y='shared'\n",
    ")"
   ]
  }
 ],
 "metadata": {
  "kernelspec": {
   "display_name": "Python 3",
   "language": "python",
   "name": "python3"
  },
  "language_info": {
   "codemirror_mode": {
    "name": "ipython",
    "version": 3
   },
   "file_extension": ".py",
   "mimetype": "text/x-python",
   "name": "python",
   "nbconvert_exporter": "python",
   "pygments_lexer": "ipython3",
   "version": "3.8.2"
  }
 },
 "nbformat": 4,
 "nbformat_minor": 4
}
