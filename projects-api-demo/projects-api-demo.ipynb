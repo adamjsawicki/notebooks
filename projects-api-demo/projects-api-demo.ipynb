{
 "cells": [
  {
   "cell_type": "markdown",
   "metadata": {},
   "source": [
    "# CarbonPlan Reports API Demo\n",
    "\n",
    "This notebook demonstrates how to use CarbonPlan's API to access and analyze project reports."
   ]
  },
  {
   "cell_type": "code",
   "execution_count": null,
   "metadata": {},
   "outputs": [],
   "source": [
    "import requests\n",
    "import pandas as pd\n",
    "import altair as alt\n",
    "\n",
    "from IPython.display import JSON"
   ]
  },
  {
   "cell_type": "markdown",
   "metadata": {},
   "source": [
    "### Schema\n",
    "\n",
    "All API access is over HTTPS, and accessed from https://api.carbonplan.now.sh. All data is sent and received as JSON. The full schema is available via the API: "
   ]
  },
  {
   "cell_type": "code",
   "execution_count": null,
   "metadata": {},
   "outputs": [],
   "source": [
    "schema = requests.get('https://api.carbonplan.now.sh/schema/').json()\n",
    "\n",
    "# list objects defined in CarbonPlan's schema\n",
    "schema['objects']\n",
    "JSON(schema)"
   ]
  },
  {
   "cell_type": "code",
   "execution_count": null,
   "metadata": {},
   "outputs": [],
   "source": [
    "# or get the full schema for a specific object\n",
    "schema = requests.get('https://api.carbonplan.now.sh/schema/ProjectCollection.json').json()\n",
    "JSON(schema)"
   ]
  },
  {
   "cell_type": "markdown",
   "metadata": {},
   "source": [
    "### Projects\n",
    "\n",
    "CarbonPlan's full ProjectCollection is available at https://api.carbonplan.now.sh/projects:"
   ]
  },
  {
   "cell_type": "code",
   "execution_count": null,
   "metadata": {},
   "outputs": [],
   "source": [
    "project_collection = requests.get('https://api.carbonplan.now.sh/projects').json()\n",
    "JSON(project_collection, root='project_collection')"
   ]
  },
  {
   "cell_type": "markdown",
   "metadata": {},
   "source": [
    "Individual projects can be requested using query parameters. In the example below, we point our API request at `id=STRP01`:"
   ]
  },
  {
   "cell_type": "code",
   "execution_count": null,
   "metadata": {},
   "outputs": [],
   "source": [
    "one_project = requests.get('https://api.carbonplan.now.sh/projects?id=STRP01').json()\n",
    "JSON(one_project)"
   ]
  },
  {
   "cell_type": "markdown",
   "metadata": {},
   "source": [
    "### Sample Analysis\n",
    "\n",
    "Now that we've gone over how to access CarbonPlan's API, we can turn to some sample analysis. Here we'll simply take the full project collection (defined above) and dump it into a `pandas.DataFrame`."
   ]
  },
  {
   "cell_type": "code",
   "execution_count": null,
   "metadata": {},
   "outputs": [],
   "source": [
    "projects = pd.DataFrame.from_dict(project_collection['projects'], ).set_index('id')\n",
    "projects.head()"
   ]
  },
  {
   "cell_type": "markdown",
   "metadata": {},
   "source": [
    "You'll notice some columns still have nested JSON in them so we'll want to unpack them further. In the next cell we unpack the metrics into a `DataFrame` of its own."
   ]
  },
  {
   "cell_type": "code",
   "execution_count": null,
   "metadata": {},
   "outputs": [],
   "source": [
    "metrics = [m['name'] for m in projects.iloc[0].metrics]\n",
    "\n",
    "def get_metric(row, name='volume', key='value'):\n",
    "    ''' helper function to extract metric values by name '''\n",
    "    for m in row.metrics:\n",
    "        if m['name'] == name:\n",
    "            return m[key]\n",
    "\n",
    "metrics_df = pd.DataFrame({m: projects.apply(get_metric, name=m, axis=1) for m in metrics}).apply(pd.to_numeric, errors='coerce')\n",
    "metrics_df['tag'] = projects['tags'].apply(lambda x: x[0])\n",
    "metrics_df['name'] = projects['name']\n",
    "metrics_df.head()"
   ]
  },
  {
   "cell_type": "markdown",
   "metadata": {},
   "source": [
    "From here, we can start doing some real analysis and data visualization with our metrics `DataFrame`.\n",
    "\n",
    "In the section below, we simply make the three charts that are shown on https://reports.carbonplan.org. We use [Altair](https://altair-viz.github.io/) to make a few interactive vizualizations."
   ]
  },
  {
   "cell_type": "code",
   "execution_count": null,
   "metadata": {},
   "outputs": [],
   "source": [
    "colors = {\n",
    "    'mineralization': '#a9b4c4',\n",
    "    'soil': '#ea9755',\n",
    "    'biomass': '#d4c05e',\n",
    "    'forests': '#7eb36a',\n",
    "    'ocean': '#64b9c4',\n",
    "    'dac': '#bc85d9'\n",
    "}\n",
    "color_scale = alt.Color('tag:N', scale=alt.Scale(domain=list(colors.keys()), range=list(colors.values())))\n",
    "tooltip = ['name', 'volume', 'cost', 'permanence', 'negativity']"
   ]
  },
  {
   "cell_type": "code",
   "execution_count": null,
   "metadata": {},
   "outputs": [],
   "source": [
    "# selectors\n",
    "brush = alt.selection_interval(encodings=['x', 'y'])\n",
    "click = alt.selection_multi()\n",
    "\n",
    "# chart\n",
    "chart = alt.Chart(metrics_df).mark_circle(size=200).encode(\n",
    "    color=color_scale,\n",
    "    opacity=alt.condition(brush | click, alt.OpacityValue(1), alt.OpacityValue(0.4)),\n",
    "    tooltip=tooltip\n",
    ").properties(\n",
    "    width=250,\n",
    "    height=250\n",
    ").add_selection(\n",
    "    brush, click\n",
    ")\n",
    "\n",
    "# hconcat\n",
    "(\n",
    "    chart.encode(\n",
    "        alt.X('cost', axis=alt.Axis(title='COST $/tCO2', tickCount=3), scale=alt.Scale(type='log', domain=[2, 2000], nice=False)),\n",
    "        alt.Y('tag', axis=alt.Axis(title=''))\n",
    "    ) |\n",
    "    chart.encode(\n",
    "        alt.X('volume', axis=alt.Axis(title='VOLUME tCO2', tickCount=3), scale=alt.Scale(type='log', domain=[2, 100000000])),\n",
    "        alt.Y('tag', axis=alt.Axis(title=''))\n",
    "    ) |\n",
    "    chart.encode(\n",
    "        alt.X('negativity', axis=alt.Axis(title='NEGATIVITY', tickCount=2), scale=alt.Scale(domain=[-0.1, 1.1])),\n",
    "        alt.Y('tag', axis=alt.Axis(title=''))\n",
    "    ) |\n",
    "    chart.encode(\n",
    "        alt.X('permanence', axis=alt.Axis(title='PERMANENCE years', tickCount=3), scale=alt.Scale(type='log', domain=[0.6, 2000], nice=False)),\n",
    "        alt.Y('tag', axis=alt.Axis(title='')))\n",
    ").configure_axis(grid=False).resolve_scale(\n",
    "    y='shared'\n",
    ")"
   ]
  },
  {
   "cell_type": "code",
   "execution_count": null,
   "metadata": {},
   "outputs": [],
   "source": [
    "# selectors\n",
    "brush = alt.selection_interval(encodings=['x', 'y'])\n",
    "click = alt.selection_multi()\n",
    "\n",
    "# chart\n",
    "chart = alt.Chart(metrics_df).mark_circle(size=200).encode(\n",
    "    color=color_scale,\n",
    "    opacity=alt.condition(brush | click, alt.OpacityValue(1), alt.OpacityValue(0.4)),\n",
    "    tooltip=tooltip\n",
    ").properties(\n",
    "    width=250,\n",
    "    height=250\n",
    ").add_selection(\n",
    "    brush, click\n",
    ")\n",
    "\n",
    "# hconcat\n",
    "(\n",
    "    chart.encode(\n",
    "        alt.X('volume', axis=alt.Axis(title='VOLUME tCO2', tickCount=3), scale=alt.Scale(type='log', domain=[2, 100000000])),\n",
    "        alt.Y('cost', axis=alt.Axis(title='COST $/tCO2', tickCount=3), scale=alt.Scale(type='log', domain=[2, 2000], nice=False)),\n",
    "    ) |\n",
    "    chart.encode(\n",
    "        alt.X('negativity', axis=alt.Axis(title='NEGATIVITY', tickCount=2), scale=alt.Scale(domain=[-0.1, 1.1])),\n",
    "        alt.Y('tag', axis=alt.Axis(title=''))\n",
    "    ) |\n",
    "    chart.encode(\n",
    "        alt.X('permanence', axis=alt.Axis(title='PERMANENCE years', tickCount=3), scale=alt.Scale(type='log', domain=[0.6, 2000], nice=False)),\n",
    "        alt.Y('tag', axis=alt.Axis(title='')))\n",
    ").configure_axis(grid=False).resolve_scale(\n",
    "    y='shared'\n",
    ")"
   ]
  }
 ],
 "metadata": {
  "kernelspec": {
   "display_name": "Python 3",
   "language": "python",
   "name": "python3"
  },
  "language_info": {
   "codemirror_mode": {
    "name": "ipython",
    "version": 3
   },
   "file_extension": ".py",
   "mimetype": "text/x-python",
   "name": "python",
   "nbconvert_exporter": "python",
   "pygments_lexer": "ipython3",
   "version": "3.7.6"
  }
 },
 "nbformat": 4,
 "nbformat_minor": 4
}
