{
 "cells": [
  {
   "cell_type": "code",
   "execution_count": null,
   "metadata": {},
   "outputs": [],
   "source": [
    "# ecoera\n",
    "# O:C ratio is 0.039\n",
    "# 78% carbon content per ton of biochar\n",
    "# so 0.78 tons of C or 2.86 tons of CO2e per ton of biochar\n",
    "# they are selling 5000 tons of CO2e\n",
    "# which is 5000/2.86 tons of biochar\n",
    "# (puro additionally discounts that by 0.025)"
   ]
  },
  {
   "cell_type": "code",
   "execution_count": null,
   "metadata": {},
   "outputs": [],
   "source": [
    "%matplotlib inline\n",
    "import matplotlib.pyplot as plt"
   ]
  },
  {
   "cell_type": "code",
   "execution_count": null,
   "metadata": {},
   "outputs": [],
   "source": [
    "from numpy import arange, zeros, exp, log"
   ]
  },
  {
   "cell_type": "code",
   "execution_count": null,
   "metadata": {},
   "outputs": [],
   "source": [
    "years = arange(0,1000)\n",
    "def sim(C1, C2, k1, j2):\n",
    "    y1 = zeros(years.shape)\n",
    "    y2 = zeros(years.shape)\n",
    "    for t in years:\n",
    "        if t == 0:\n",
    "            y1[t] = C1\n",
    "            y2[t] = C2\n",
    "        else:\n",
    "            y1[t] = y1[t-1] * exp(-k1)\n",
    "            y2[t] = y2[t-1] * exp(-k2)\n",
    "    return y1, y2"
   ]
  },
  {
   "cell_type": "markdown",
   "metadata": {},
   "source": [
    "### Ecoera"
   ]
  },
  {
   "cell_type": "code",
   "execution_count": null,
   "metadata": {},
   "outputs": [],
   "source": [
    "volume_CO2 = 5000\n",
    "volume_C = volume_CO2 / 3.67\n",
    "volume_C_biochar = volume_C / 0.78\n",
    "O_C_ratio = 0.039"
   ]
  },
  {
   "cell_type": "code",
   "execution_count": null,
   "metadata": {},
   "outputs": [],
   "source": [
    "volume_C_biochar"
   ]
  },
  {
   "cell_type": "code",
   "execution_count": null,
   "metadata": {},
   "outputs": [],
   "source": [
    "f = 0.6\n",
    "k1 = 0.03\n",
    "C1 = volume_C_biochar / f\n",
    "k2 = log(2)/2000\n",
    "C2 = volume_C_biochar"
   ]
  },
  {
   "cell_type": "code",
   "execution_count": null,
   "metadata": {},
   "outputs": [],
   "source": [
    "y1, y2 = sim(C1, C2, k1, k2)"
   ]
  },
  {
   "cell_type": "code",
   "execution_count": null,
   "metadata": {},
   "outputs": [],
   "source": [
    "plt.plot(years,y1)\n",
    "plt.plot(years,y2-y1);"
   ]
  },
  {
   "cell_type": "markdown",
   "metadata": {},
   "source": [
    "### Carbofex"
   ]
  },
  {
   "cell_type": "code",
   "execution_count": null,
   "metadata": {},
   "outputs": [],
   "source": [
    "volume_CO2 = 2500\n",
    "volume_C = volume_CO2 / 3.67\n",
    "volume_C_biochar = volume_C / 0.92\n",
    "O_C_ratio = 0.021\n",
    "volume_C"
   ]
  },
  {
   "cell_type": "code",
   "execution_count": null,
   "metadata": {},
   "outputs": [],
   "source": [
    "f = 0.6\n",
    "k1 = 0.03\n",
    "C1 = volume_C_biochar / f\n",
    "k2 = log(2)/1000\n",
    "C2 = volume_C_biochar"
   ]
  },
  {
   "cell_type": "code",
   "execution_count": null,
   "metadata": {},
   "outputs": [],
   "source": [
    "y1, y2 = sim(C1, C2, k1, k2)"
   ]
  },
  {
   "cell_type": "code",
   "execution_count": null,
   "metadata": {},
   "outputs": [],
   "source": [
    "plt.plot(years,y2-y1)\n",
    "plt.plot(years,y2);"
   ]
  },
  {
   "cell_type": "markdown",
   "metadata": {},
   "source": [
    "### CarboCulture"
   ]
  },
  {
   "cell_type": "code",
   "execution_count": null,
   "metadata": {},
   "outputs": [],
   "source": [
    "3.12/3.67"
   ]
  },
  {
   "cell_type": "code",
   "execution_count": null,
   "metadata": {},
   "outputs": [],
   "source": [
    "volume_CO2 = 62\n",
    "volume_C = volume_CO2 / 3.67\n",
    "volume_C_biochar = volume_C / 0.85\n",
    "O_C_ratio = 0.08\n",
    "volume_C"
   ]
  },
  {
   "cell_type": "code",
   "execution_count": null,
   "metadata": {},
   "outputs": [],
   "source": [
    "f = 0.6\n",
    "k1 = 0.03\n",
    "C1 = volume_C_biochar / f\n",
    "k2 = log(2)/1000\n",
    "C2 = volume_C_biochar"
   ]
  },
  {
   "cell_type": "code",
   "execution_count": null,
   "metadata": {},
   "outputs": [],
   "source": [
    "k2"
   ]
  },
  {
   "cell_type": "code",
   "execution_count": null,
   "metadata": {},
   "outputs": [],
   "source": [
    "y1, y2 = sim(C1, C2, k1, k2)"
   ]
  },
  {
   "cell_type": "code",
   "execution_count": null,
   "metadata": {},
   "outputs": [],
   "source": [
    "plt.plot(years,y2-y1)"
   ]
  },
  {
   "cell_type": "code",
   "execution_count": null,
   "metadata": {},
   "outputs": [],
   "source": []
  }
 ],
 "metadata": {
  "kernelspec": {
   "display_name": "Python 3",
   "language": "python",
   "name": "python3"
  },
  "language_info": {
   "codemirror_mode": {
    "name": "ipython",
    "version": 3
   },
   "file_extension": ".py",
   "mimetype": "text/x-python",
   "name": "python",
   "nbconvert_exporter": "python",
   "pygments_lexer": "ipython3",
   "version": "3.7.6"
  }
 },
 "nbformat": 4,
 "nbformat_minor": 4
}
