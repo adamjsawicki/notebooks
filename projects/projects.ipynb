{
 "cells": [
  {
   "cell_type": "markdown",
   "metadata": {},
   "source": [
    "# CarbonPlan Project Reports API Demo\n",
    "\n",
    "This notebook demonstrates how to use CarbonPlan's API to access and analyze project reports."
   ]
  },
  {
   "cell_type": "code",
   "execution_count": 1,
   "metadata": {},
   "outputs": [],
   "source": [
    "import requests\n",
    "import pandas as pd\n",
    "import altair as alt\n",
    "\n",
    "from IPython.display import JSON"
   ]
  },
  {
   "cell_type": "markdown",
   "metadata": {},
   "source": [
    "### Schema\n",
    "\n",
    "All API access is over HTTPS, and accessed from https://api.carbonplan.org. All data is sent and received as JSON. The full schema is available via the API: "
   ]
  },
  {
   "cell_type": "code",
   "execution_count": 2,
   "metadata": {},
   "outputs": [
    {
     "data": {
      "application/json": {
       "objects": [
        "ProjectCollection",
        "Project",
        "Metric"
       ]
      },
      "text/plain": [
       "<IPython.core.display.JSON object>"
      ]
     },
     "execution_count": 2,
     "metadata": {
      "application/json": {
       "expanded": false,
       "root": "root"
      }
     },
     "output_type": "execute_result"
    }
   ],
   "source": [
    "schema = requests.get('https://api.carbonplan.org/schema.json').json()\n",
    "\n",
    "# list objects defined in CarbonPlan's schema\n",
    "JSON(schema)"
   ]
  },
  {
   "cell_type": "code",
   "execution_count": 3,
   "metadata": {},
   "outputs": [
    {
     "data": {
      "application/json": {
       "$id": "https://api.carbonplan.org/schema/ProjectCollection.json",
       "$schema": "http://json-schema.org/draft-07/schema#",
       "projects": {
        "items": {
         "properties": {
          "description": {
           "type": "string"
          },
          "geometry": {
           "type": {
            "oneOf": [
             {
              "type": "null"
             },
             {
              "properties": {
               "bbox": {
                "items": {
                 "type": "number"
                },
                "minItems": 4,
                "type": "array"
               },
               "coordinates": {
                "items": {
                 "type": "number"
                },
                "minItems": 2,
                "type": "array"
               },
               "type": {
                "enum": [
                 "Point"
                ],
                "type": "string"
               }
              },
              "required": [
               "type",
               "coordinates"
              ],
              "title": "GeoJSON Point",
              "type": "object"
             },
             {
              "properties": {
               "bbox": {
                "items": {
                 "type": "number"
                },
                "minItems": 4,
                "type": "array"
               },
               "coordinates": {
                "items": {
                 "items": {
                  "type": "number"
                 },
                 "minItems": 2,
                 "type": "array"
                },
                "minItems": 2,
                "type": "array"
               },
               "type": {
                "enum": [
                 "LineString"
                ],
                "type": "string"
               }
              },
              "required": [
               "type",
               "coordinates"
              ],
              "title": "GeoJSON LineString",
              "type": "object"
             },
             {
              "properties": {
               "bbox": {
                "items": {
                 "type": "number"
                },
                "minItems": 4,
                "type": "array"
               },
               "coordinates": {
                "items": {
                 "items": {
                  "items": {
                   "type": "number"
                  },
                  "minItems": 2,
                  "type": "array"
                 },
                 "minItems": 4,
                 "type": "array"
                },
                "type": "array"
               },
               "type": {
                "enum": [
                 "Polygon"
                ],
                "type": "string"
               }
              },
              "required": [
               "type",
               "coordinates"
              ],
              "title": "GeoJSON Polygon",
              "type": "object"
             },
             {
              "properties": {
               "bbox": {
                "items": {
                 "type": "number"
                },
                "minItems": 4,
                "type": "array"
               },
               "coordinates": {
                "items": {
                 "items": {
                  "type": "number"
                 },
                 "minItems": 2,
                 "type": "array"
                },
                "type": "array"
               },
               "type": {
                "enum": [
                 "MultiPoint"
                ],
                "type": "string"
               }
              },
              "required": [
               "type",
               "coordinates"
              ],
              "title": "GeoJSON MultiPoint",
              "type": "object"
             },
             {
              "properties": {
               "bbox": {
                "items": {
                 "type": "number"
                },
                "minItems": 4,
                "type": "array"
               },
               "coordinates": {
                "items": {
                 "items": {
                  "items": {
                   "type": "number"
                  },
                  "minItems": 2,
                  "type": "array"
                 },
                 "minItems": 2,
                 "type": "array"
                },
                "type": "array"
               },
               "type": {
                "enum": [
                 "MultiLineString"
                ],
                "type": "string"
               }
              },
              "required": [
               "type",
               "coordinates"
              ],
              "title": "GeoJSON MultiLineString",
              "type": "object"
             },
             {
              "properties": {
               "bbox": {
                "items": {
                 "type": "number"
                },
                "minItems": 4,
                "type": "array"
               },
               "coordinates": {
                "items": {
                 "items": {
                  "items": {
                   "items": {
                    "type": "number"
                   },
                   "minItems": 2,
                   "type": "array"
                  },
                  "minItems": 4,
                  "type": "array"
                 },
                 "type": "array"
                },
                "type": "array"
               },
               "type": {
                "enum": [
                 "MultiPolygon"
                ],
                "type": "string"
               }
              },
              "required": [
               "type",
               "coordinates"
              ],
              "title": "GeoJSON MultiPolygon",
              "type": "object"
             },
             {
              "properties": {
               "bbox": {
                "items": {
                 "type": "number"
                },
                "minItems": 4,
                "type": "array"
               },
               "geometries": {
                "items": {
                 "oneOf": [
                  {
                   "properties": {
                    "bbox": {
                     "items": {
                      "type": "number"
                     },
                     "minItems": 4,
                     "type": "array"
                    },
                    "coordinates": {
                     "items": {
                      "type": "number"
                     },
                     "minItems": 2,
                     "type": "array"
                    },
                    "type": {
                     "enum": [
                      "Point"
                     ],
                     "type": "string"
                    }
                   },
                   "required": [
                    "type",
                    "coordinates"
                   ],
                   "title": "GeoJSON Point",
                   "type": "object"
                  },
                  {
                   "properties": {
                    "bbox": {
                     "items": {
                      "type": "number"
                     },
                     "minItems": 4,
                     "type": "array"
                    },
                    "coordinates": {
                     "items": {
                      "items": {
                       "type": "number"
                      },
                      "minItems": 2,
                      "type": "array"
                     },
                     "minItems": 2,
                     "type": "array"
                    },
                    "type": {
                     "enum": [
                      "LineString"
                     ],
                     "type": "string"
                    }
                   },
                   "required": [
                    "type",
                    "coordinates"
                   ],
                   "title": "GeoJSON LineString",
                   "type": "object"
                  },
                  {
                   "properties": {
                    "bbox": {
                     "items": {
                      "type": "number"
                     },
                     "minItems": 4,
                     "type": "array"
                    },
                    "coordinates": {
                     "items": {
                      "items": {
                       "items": {
                        "type": "number"
                       },
                       "minItems": 2,
                       "type": "array"
                      },
                      "minItems": 4,
                      "type": "array"
                     },
                     "type": "array"
                    },
                    "type": {
                     "enum": [
                      "Polygon"
                     ],
                     "type": "string"
                    }
                   },
                   "required": [
                    "type",
                    "coordinates"
                   ],
                   "title": "GeoJSON Polygon",
                   "type": "object"
                  },
                  {
                   "properties": {
                    "bbox": {
                     "items": {
                      "type": "number"
                     },
                     "minItems": 4,
                     "type": "array"
                    },
                    "coordinates": {
                     "items": {
                      "items": {
                       "type": "number"
                      },
                      "minItems": 2,
                      "type": "array"
                     },
                     "type": "array"
                    },
                    "type": {
                     "enum": [
                      "MultiPoint"
                     ],
                     "type": "string"
                    }
                   },
                   "required": [
                    "type",
                    "coordinates"
                   ],
                   "title": "GeoJSON MultiPoint",
                   "type": "object"
                  },
                  {
                   "properties": {
                    "bbox": {
                     "items": {
                      "type": "number"
                     },
                     "minItems": 4,
                     "type": "array"
                    },
                    "coordinates": {
                     "items": {
                      "items": {
                       "items": {
                        "type": "number"
                       },
                       "minItems": 2,
                       "type": "array"
                      },
                      "minItems": 2,
                      "type": "array"
                     },
                     "type": "array"
                    },
                    "type": {
                     "enum": [
                      "MultiLineString"
                     ],
                     "type": "string"
                    }
                   },
                   "required": [
                    "type",
                    "coordinates"
                   ],
                   "title": "GeoJSON MultiLineString",
                   "type": "object"
                  },
                  {
                   "properties": {
                    "bbox": {
                     "items": {
                      "type": "number"
                     },
                     "minItems": 4,
                     "type": "array"
                    },
                    "coordinates": {
                     "items": {
                      "items": {
                       "items": {
                        "items": {
                         "type": "number"
                        },
                        "minItems": 2,
                        "type": "array"
                       },
                       "minItems": 4,
                       "type": "array"
                      },
                      "type": "array"
                     },
                     "type": "array"
                    },
                    "type": {
                     "enum": [
                      "MultiPolygon"
                     ],
                     "type": "string"
                    }
                   },
                   "required": [
                    "type",
                    "coordinates"
                   ],
                   "title": "GeoJSON MultiPolygon",
                   "type": "object"
                  }
                 ]
                },
                "type": "array"
               },
               "type": {
                "enum": [
                 "GeometryCollection"
                ],
                "type": "string"
               }
              },
              "required": [
               "type",
               "geometries"
              ],
              "title": "GeoJSON GeometryCollection",
              "type": "object"
             }
            ]
           }
          },
          "id": {
           "type": "string"
          },
          "metrics": {
           "items": {
            "properties": {
             "comment": {
              "type": "string"
             },
             "name": {
              "type": "string"
             },
             "rating": {
              "type": "string"
             },
             "type": {
              "enum": [
               "Metric"
              ],
              "type": "string"
             },
             "units": {
              "type": "string"
             },
             "value": {
              "type": "number"
             }
            },
            "required": [
             "type",
             "name",
             "value",
             "units"
            ],
            "title": "CarbonPlan Metric",
            "type": "object"
           },
           "type": "array"
          },
          "name": {
           "type": "string"
          },
          "tags": {
           "items": {
            "type": "string"
           },
           "type": "array"
          },
          "type": {
           "enum": [
            "Project"
           ],
           "type": "string"
          }
         },
         "required": [
          "type",
          "name",
          "metrics",
          "geometry",
          "tags",
          "id",
          "description"
         ],
         "title": "CarbonPlan Project",
         "type": "object"
        },
        "type": "array"
       },
       "properties": {
        "type": {
         "enum": [
          "ProjectCollection"
         ],
         "type": "string"
        }
       },
       "required": [
        "type",
        "projects"
       ],
       "title": "CarbonPlan ProjectCollection",
       "type": "object"
      },
      "text/plain": [
       "<IPython.core.display.JSON object>"
      ]
     },
     "execution_count": 3,
     "metadata": {
      "application/json": {
       "expanded": false,
       "root": "root"
      }
     },
     "output_type": "execute_result"
    }
   ],
   "source": [
    "# or get the full schema for a specific object\n",
    "schema = requests.get('https://api.carbonplan.org/schema/ProjectCollection.json').json()\n",
    "JSON(schema)"
   ]
  },
  {
   "cell_type": "markdown",
   "metadata": {},
   "source": [
    "### Projects\n",
    "\n",
    "CarbonPlan's full ProjectCollection is available at https://api.carbonplan.org/projects.json:"
   ]
  },
  {
   "cell_type": "code",
   "execution_count": 4,
   "metadata": {},
   "outputs": [
    {
     "data": {
      "application/json": {
       "projects": [
        {
         "description": "Direct air capture and mineralization.",
         "geometry": {
          "type": null
         },
         "id": "STRP001",
         "location": {
          "geometry": {
           "type": null
          },
          "name": "Iceland"
         },
         "metrics": [
          {
           "avoided": 0,
           "comment": "",
           "name": "mechanism",
           "notes": "Removes carbon from the atmosphere using a solid chemical sorbent. Captured carbon dioxide is geologically sequestered in mineral form.",
           "rating": 1,
           "removal": 1,
           "type": "Metric",
           "units": "",
           "value": ""
          },
          {
           "comment": "Scale of volume is commensurate with published sorbent technology. Technology can be deployed on a modular basis.",
           "name": "volume",
           "notes": "Volume based on the annual capacity of a pilot plant in Iceland commissioned in October 2017. Larger-scale plants are under construction that may offer more volume.",
           "rating": 1,
           "type": "Metric",
           "units": "tCO2",
           "value": 50
          },
          {
           "comment": "Detailed assessment in collaboration with research group is pending publication. Low ratio likely depends on availability of low-carbon energy in Iceland.",
           "emissions": 0.1,
           "kind": "ratio",
           "name": "negativity",
           "notes": "Claims total emissions are 0.1 tCO2 for every 1 tCO2 removed.",
           "rating": 0,
           "removal": 1,
           "type": "Metric",
           "units": "",
           "value": 0.9
          },
          {
           "comment": "Successful mineralization produces reliable, effectively permanent carbon storage.",
           "name": "permanence",
           "notes": "",
           "rating": 1,
           "type": "Metric",
           "units": "years",
           "value": 1000
          },
          {
           "comment": "The only reason to implement a project like this is to generate climate benefits. New investments may relate to future deployments rather than current procurements.",
           "name": "additionality",
           "notes": "",
           "rating": "",
           "type": "Metric",
           "units": "",
           "value": 2
          },
          {
           "comment": "Reported value is the average of the range $735-800.",
           "name": "cost",
           "notes": "",
           "rating": "",
           "type": "Metric",
           "units": "$/tCO2",
           "value": 767.5
          },
          {
           "comment": "Basic technology is well understood through both demonstrations and published litearture. Publications on LCA are pending. Publications or public datasets on specific approaches are not yet available.",
           "name": "specificity",
           "notes": "",
           "rating": "",
           "type": "Metric",
           "units": "",
           "value": 1
          }
         ],
         "name": "Climeworks",
         "source": {
          "license": "CC-BY-4.0",
          "name": "Stripe 2020 Negative Emissions Purchase",
          "url": "https://github.com/stripe/negative-emissions-source-materials"
         },
         "tags": [
          "dac",
          "mineralization"
         ],
         "type": "Project"
        },
        {
         "description": "Carbon reductions in concrete.",
         "geometry": {
          "type": null
         },
         "id": "STRP002",
         "location": {
          "geometry": {
           "type": null
          },
          "name": "North America"
         },
         "metrics": [
          {
           "avoided": 1,
           "comment": "From a narrow lifecycle perspective, project only avoids CO2 emissions because it sources CO2 from a waste stream. From a broad perspective, the same technology would form a carbon removal pathway if coupled to a biogenic CO2 emissions source or a direct air capture facility.",
           "name": "mechanism",
           "notes": "Captured industrial CO2 source is mineralized to create building materials. Project also reduces emissions associated with conventional concrete production.",
           "rating": 1,
           "removal": 0,
           "type": "Metric",
           "units": "",
           "value": ""
          },
          {
           "comment": "Reporting 60000 tCO2 as an estimate of current annual volume. Total volume combines utilization and avoided emissions from reducing conventional concrete production. Based on ratios provided in LCA, we infer 1126 total tCO2 utilitized and 58874 tCO2 avoided. Validating this breakdown would require more specific project parameters.",
           "name": "volume",
           "notes": "Volume reflects 200 cement production facilities using the technology. Every 1 tCO2 used is corresponds to 0.85 tCO2 mineralized and 44.45 tCO2 avoided by reducing conventional concrete production emissions from 0.26 tCO2 / m3 to 0.22 tCO2 / m3.",
           "rating": 0,
           "type": "Metric",
           "units": "tCO2",
           "value": 60000
          },
          {
           "comment": "For consistency, we recompute negativity only for the carbon utilization component, yielding a lower number. LCA boundary conditions are well-specified, and several third-party audits of the LCA analysis have been performed.",
           "emissions": 0.15,
           "kind": "ratio",
           "name": "negativity",
           "notes": "Claims 0.85 tCO2 mineralized and 0.15 tCO2 emitted for every 1 tCO2. Reported ratio of 0.9967 also includes an additional 44.45 tCO2 in avoided emissions arising from its product replacing conventional concrete.",
           "rating": 1,
           "removal": 0.85,
           "type": "Metric",
           "units": "",
           "value": 0.824
          },
          {
           "comment": "Successful mineralization produces reliable, effectively permanent carbon storage.",
           "name": "permanence",
           "notes": "",
           "rating": 1,
           "type": "Metric",
           "units": "years",
           "value": 1000
          },
          {
           "comment": "Cement will already be purchased and used separate from its carbon removal benefits. The carbon removal benefits are being offered separately, albeit for the first time for this company.",
           "name": "additionality",
           "notes": "",
           "rating": "",
           "type": "Metric",
           "units": "",
           "value": 1
          },
          {
           "comment": "Amount charged specifically for carbon removal is explicitly set to incentivize utilization of the product, which may already be economically favorable based on project description.",
           "name": "cost",
           "notes": "",
           "rating": "",
           "type": "Metric",
           "units": "$/tCO2",
           "value": 100
          },
          {
           "comment": "Publications on specific techology are not yet available, but references to several third-party LCAs are provided and may be available upon request.",
           "name": "specificity",
           "notes": "",
           "rating": "",
           "type": "Metric",
           "units": "",
           "value": 1
          }
         ],
         "name": "CarbonCure",
         "source": {
          "license": "CC-BY-4.0",
          "name": "Stripe 2020 Negative Emissions Purchase",
          "url": "https://github.com/stripe/negative-emissions-source-materials"
         },
         "tags": [
          "mineralization",
          "materials"
         ],
         "type": "Project"
        },
        {
         "description": "Increasing soil carbon sequestration and soil health.",
         "geometry": {
          "type": null
         },
         "id": "STRP003",
         "location": {
          "geometry": {
           "type": null
          },
          "name": "USA"
         },
         "metrics": [
          {
           "avoided": 0,
           "comment": "Multiple established soil carbon removal pathways exist, including five referenced in the Nori Croplands methodlogy (Section 2.3 of Version 1.1). Validating specific removal mechanisms would require more project details.",
           "name": "mechanism",
           "notes": "Broker facilitates atmospheric carbon removal by providing an incentive to adopt agricultural practices that increase carbon sequestration in soils.",
           "rating": 0,
           "removal": 1,
           "type": "Metric",
           "units": "",
           "value": ""
          },
          {
           "comment": "Project locations are specified and COMET-Farm is a publicly available tool. Validating individual volumes would require knowing at least which practices will be applied at project sites, model parameters used, or more complete plot details.",
           "name": "volume",
           "notes": "Volume based on a single supplier, Harborview Farms, which includes 27 plots totaling 14011 tCO2. Volumes calculated using USDA COMET-Farm model, using project-level data collected by Nori. The Nori platform offers a larger portfolio of projects, but they are not considered here.",
           "rating": 0,
           "type": "Metric",
           "units": "tCO2",
           "value": 14011
          },
          {
           "comment": "Emissions information ought to be available in the COMET-Farm model outputs, but cannot be reproduced as model parameters are not available.",
           "emissions": "N/A",
           "kind": "N/A",
           "name": "negativity",
           "notes": "No data provided, but high likelihood it will vary across projects. Claimed guarantee that negativity will be greater than 0.",
           "rating": 0,
           "removal": "N/A",
           "type": "Metric",
           "units": "",
           "value": "N/A"
          },
          {
           "comment": "Soil carbon storage can last for decades or more, but it can also be reversed by changes to land use or management practices. Nori requires a 10-year contractual commitment from its projects, which is a reasonable timeframe given bankruptcy and default risks. We report the minimum of the contractual agreement and the biogeophysical claim.",
           "name": "permanence",
           "notes": "Mentions that projects may continue to store carbon beyond the contract horizon.",
           "rating": 1,
           "type": "Metric",
           "units": "years",
           "value": 10
          },
          {
           "comment": "Changes to land management practices not specified. Significant co-benefits to land managers claimed alongside climate benefits offered for sale. The Nori Croplands methodology requires additionality, but does not specify how it is determined how to independently identify or validate additionality claims.",
           "name": "additionality",
           "notes": "",
           "rating": "",
           "type": "Metric",
           "units": "",
           "value": 1
          },
          {
           "comment": "",
           "name": "cost",
           "notes": "Set by the supplier and includes a 10% fee to Nori as broker.",
           "rating": "",
           "type": "Metric",
           "units": "$/tCO2",
           "value": 16.5
          },
          {
           "comment": "Several project details (e.g. plot locations) are available. Volume and LCA methods are based on the public and published COMET-Farm model. Specific parameters used for model are not public, limiting ability for independent analysis and quantification.",
           "name": "specificity",
           "notes": "",
           "rating": "",
           "type": "Metric",
           "units": "",
           "value": 1
          }
         ],
         "name": "Nori Harborview Farms",
         "source": {
          "license": "CC-BY-4.0",
          "name": "Stripe 2020 Negative Emissions Purchase",
          "url": "https://github.com/stripe/negative-emissions-source-materials"
         },
         "tags": [
          "soil",
          "broker"
         ],
         "type": "Project"
        },
        {
         "description": "Regenerative farming practices for soil carbon sequestration.",
         "geometry": {
          "type": null
         },
         "id": "STRP004",
         "location": {
          "geometry": {
           "type": null
          },
          "name": "Midwest and Southern USA"
         },
         "metrics": [
          {
           "avoided": 0,
           "comment": "Multiple established soil carbon removal pathways exist, but validating project mechanisms would require specific project details.",
           "name": "mechanism",
           "notes": "Broker facilitates atmospheric carbon removal by providing an incentive to adopt agricultural practices that increase carbon sequestration in soils.",
           "rating": 0,
           "removal": 1,
           "type": "Metric",
           "units": "",
           "value": ""
          },
          {
           "comment": "We report the average of the range. Validation of volume would at a minimum require information on specific projects, and values are only plausible under a significant scale of participation, for example, 0.5M ha of farmland at a rate of 1 tCO2 / ha / yr.",
           "name": "volume",
           "notes": "Range of 100k-1M tCO2 based on potential participants in program.",
           "rating": 0,
           "type": "Metric",
           "units": "tCO2",
           "value": 550000
          },
          {
           "comment": "",
           "emissions": "N/A",
           "kind": "N/A",
           "name": "negativity",
           "notes": "No data provided.",
           "rating": 0,
           "removal": "N/A",
           "type": "Metric",
           "units": "",
           "value": "N/A"
          },
          {
           "comment": "Soil carbon storage can be reversed by changed land management practices. Project claims that offset protocols ensure permanence on a 100-year timeframe, but of the protocols mentioned, only one is public in draft form (Climate Action Reserve) and it does not require projects to make legally-binding contracts for 100 years.",
           "name": "permanence",
           "notes": "Claims that offsets issued under Climate Action Reserve or Verra protocols require 100-year commitments.",
           "rating": 0,
           "type": "Metric",
           "units": "years",
           "value": 100
          },
          {
           "comment": "Changes to land management practices not specified. Significant co-benefits to land managers claimed alongside climate benefits offered for sale.",
           "name": "additionality",
           "notes": "",
           "rating": "",
           "type": "Metric",
           "units": "",
           "value": 1
          },
          {
           "comment": "",
           "name": "cost",
           "notes": "Includes 75% for farmers and 25% for monitoring, reporting, and verification work.",
           "rating": "",
           "type": "Metric",
           "units": "$/tCO2",
           "value": 20
          },
          {
           "comment": "No information or data on specific projects are publicly available, and methods and protocols are either not publicly available or currently under review.",
           "name": "specificity",
           "notes": "",
           "rating": "",
           "type": "Metric",
           "units": "",
           "value": 0
          }
         ],
         "name": "Indigo Ag",
         "source": {
          "license": "CC-BY-4.0",
          "name": "Stripe 2020 Negative Emissions Purchase",
          "url": "https://github.com/stripe/negative-emissions-source-materials"
         },
         "tags": [
          "soil",
          "broker"
         ],
         "type": "Project"
        },
        {
         "description": "Supporting bio-energy with carbon capture and storage.",
         "geometry": {
          "type": null
         },
         "id": "STRP005",
         "location": {
          "geometry": {
           "type": null
          },
          "name": "North America / Europe"
         },
         "metrics": [
          {
           "avoided": 1,
           "comment": "BECCS is a well-established technology. Project acts as a broker, rather than deploying a particular technology or process, so specific mechanisms could vary across sites.",
           "name": "mechanism",
           "notes": "Broker facilitates BECCS projects, which avoid emissions from biogenic carbon sources and instead capture it for geologic sequestration in rocks' pore space.",
           "rating": 0,
           "removal": 1,
           "type": "Metric",
           "units": "",
           "value": ""
          },
          {
           "comment": "Overall volume reasonable given technology. Further validation, including distinguishing relative amounts of removal vs avoided emissions, would require more specifics on individual projects in portfolio.",
           "name": "volume",
           "notes": "Volume appears to be sourced from multiple BECCS projects.",
           "rating": 0,
           "type": "Metric",
           "units": "tCO2",
           "value": 50000
          },
          {
           "comment": "Based on available project information, lifecycle emisisons do not include injection, and appear to exclude biogenic CO2 emissions not captured from production process. Possible uses for enhanced oil recovery would affect overall lifecycle emissions. Lacking more details, we report the lowest, most conservative ratio.",
           "emissions": "N/A",
           "kind": "N/A",
           "name": "negativity",
           "notes": "Range expected to vary across sites from 0.9 to 0.995.",
           "rating": 0,
           "removal": "N/A",
           "type": "Metric",
           "units": "",
           "value": 0.9
          },
          {
           "comment": "Successful geologic sequestration produces reliable, effectively permanent carbon storage. However, geologic storage stability depends on sound management practices, which could vary by specific project sites.",
           "name": "permanence",
           "notes": "",
           "rating": 0,
           "type": "Metric",
           "units": "years",
           "value": 1000
          },
          {
           "comment": "BECCS projects are likely additioinal, but specifics depend on the economics of any applicable tax credits or policy incentives.",
           "name": "additionality",
           "notes": "",
           "rating": "",
           "type": "Metric",
           "units": "",
           "value": 1
          },
          {
           "comment": "",
           "name": "cost",
           "notes": "",
           "rating": "",
           "type": "Metric",
           "units": "$/tCO2",
           "value": 99
          },
          {
           "comment": "Basic technology is well understood. Few data on specific projects or deployment sites available in proposal or on project website. No references or third-party analyses available yet for LCA.",
           "name": "specificity",
           "notes": "",
           "rating": "",
           "type": "Metric",
           "units": "",
           "value": 0
          }
         ],
         "name": "Biorecro",
         "source": {
          "license": "CC-BY-4.0",
          "name": "Stripe 2020 Negative Emissions Purchase",
          "url": "https://github.com/stripe/negative-emissions-source-materials"
         },
         "tags": [
          "biomass",
          "broker"
         ],
         "type": "Project"
        },
        {
         "description": "Turning woody biomass waste into biochar.",
         "geometry": {
          "type": null
         },
         "id": "STRP006",
         "location": {
          "geometry": {
           "type": null
          },
          "name": "Central Valley, CA, USA"
         },
         "metrics": [
          {
           "avoided": 1,
           "comment": "From a narrow lifecycle perspective, project only avoids biogenic CO2 emissions. More broadly, the same mechanism forms a carbon removal pathway when coupled to biomass production.",
           "name": "mechanism",
           "notes": "Avoids emissions from decomposing biomass resources and transforms them into long-lived biochar materials.",
           "rating": 1,
           "removal": 0,
           "type": "Metric",
           "units": "",
           "value": ""
          },
          {
           "comment": "Volume is based on producing 16.89 t of biochar with at least 85% C by mass. For consistency with other biochar projects, volume is decreased by 10% because permanence assumes the duration over which 90% of volume will remain. Further validation of volume would require knowing the decay rates of the feedstock.",
           "name": "volume",
           "notes": "Demonstration project in California's central valley, converting walnut shell waste into biochar.",
           "rating": 0,
           "type": "Metric",
           "units": "tCO2",
           "value": 56
          },
          {
           "comment": "Boundary conditions are well-specified and process described. Full LCA is pending several additional details.",
           "emissions": "N/A",
           "kind": "N/A",
           "name": "negativity",
           "notes": "Biogenic CO2 emissions are excluded from ratio.",
           "rating": 0,
           "removal": "N/A",
           "type": "Metric",
           "units": "",
           "value": 0.965
          },
          {
           "comment": "Using the reported O:C ratio of 0.08 and a simple published model we estimate 680 years as an approximate duration during which 90% of biochar C remains. This should be considered approximate, as permanence is only weakly correlated with composition, and likely depends on the storage environment and other factors.",
           "name": "permanence",
           "notes": "Claims 100 years or more.",
           "rating": 1,
           "type": "Metric",
           "units": "years",
           "value": 680
          },
          {
           "comment": "Feedstock is walnut shells that are otherwise dumped on the ground or on roads, e.g. for dust reduction purposes. Further analysis would require knowing competing uses for feedstock.",
           "name": "additionality",
           "notes": "Counterfactual is dumping walnut shells on ground or burning in biomass electricity plant.",
           "rating": "",
           "type": "Metric",
           "units": "",
           "value": 1
          },
          {
           "comment": "",
           "name": "cost",
           "notes": "",
           "rating": "",
           "type": "Metric",
           "units": "$/tCO2",
           "value": 1000
          },
          {
           "comment": "Reasonable details are provided on project specifics. Additional documentaiton on LCA and other certification may be available upon request.",
           "name": "specificity",
           "notes": "",
           "rating": "",
           "type": "Metric",
           "units": "",
           "value": 1
          }
         ],
         "name": "Carbo Culture",
         "source": {
          "license": "CC-BY-4.0",
          "name": "Stripe 2020 Negative Emissions Purchase",
          "url": "https://github.com/stripe/negative-emissions-source-materials"
         },
         "tags": [
          "biomass",
          "biochar"
         ],
         "type": "Project"
        },
        {
         "description": "Reforestation using drone swarms and seed enablement.",
         "geometry": {
          "type": null
         },
         "id": "STRP007",
         "location": {
          "geometry": {
           "type": null
          },
          "name": "WA, USA"
         },
         "metrics": [
          {
           "avoided": 0,
           "comment": "",
           "name": "mechanism",
           "notes": "Drone technology accelerates reforestation to remove carbon from atmosphere for sequestration in forests.",
           "rating": 1,
           "removal": 1,
           "type": "Metric",
           "units": "",
           "value": ""
          },
          {
           "comment": "We independently validated against USFS yield tables, assuming Ponderosa Pine in Pacific Northwest, East and project size of 211 ha. Assumes reforestation approach works as effectively as assumed, including seedling survival rates, for which public data or publications are not yet available.",
           "name": "volume",
           "notes": "Volume based on a pilot project in the Pacific Northwest, East (USFS designation). Volume stated as computed using Climate Action Reserve's Climate Forward Reforestation Forecast Methodology Version 1.0, which appears in this case to use direct projections based on USFS yield tables for Ponderosa Pine. Claim is 510 tCO2 in the first year (2020), 31026 tCO2 in 51 years (the project lifetime), and 64031 tCO2 over 100 years.",
           "rating": 1,
           "type": "Metric",
           "units": "tCO2",
           "value": 31027
          },
          {
           "comment": "Boundary conditions are well-specified and drone-related emissions are thoroughly documented. For consistency, we recomputed negativity ratio using the 51-year project lifetime carbon removal estimate of 31,027 tCO2, rather than the removal projected only in 2020.",
           "emissions": 8.6,
           "kind": "project",
           "name": "negativity",
           "notes": "Claims 8.60 tCO2 emissions for drone fleet operation and transport, all of which are incurred in the first year of the project.",
           "rating": 1,
           "removal": 31027,
           "type": "Metric",
           "units": "",
           "value": 1
          },
          {
           "comment": "Physical risks are unknown as exact location is unknown, but could be large given coarse location in the Pacific Northwest. Socioeconomic risks are significant due to the risk of default or bankruptcy on this time horizon. In addition, because funds will be used to reforest another project, there is uncertainty as to the landowner committments and associated risks. See our comment on additionality for additional discussion.",
           "name": "permanence",
           "notes": "Claims 51 years with potential economic incentives for longer durations.",
           "rating": 0,
           "type": "Metric",
           "units": "years",
           "value": 51
          },
          {
           "comment": "This project can be considered an investment in a new technology to lower the cost of reforestation, with funding likely going to future reforestation projects. As an investment in a specific quantity of carbon removal, however, there are then concerns about double-counting, as the landowner may attempt to separately monetize the same carbon benefits using a carbon offset protocol, and this pattern could repeat in future iterations.",
           "name": "additionality",
           "notes": "Counterfactual is reforesting manually or not at all.",
           "rating": "",
           "type": "Metric",
           "units": "",
           "value": 0
          },
          {
           "comment": "Costs of $500.20/tCO2 were reported using only the carbon removal of 510 tCO2 expected in 2020, but an estimated 31,026 tCO2 will be removed over the project lifetime. For consistency, we have adjusted the reported $/tCO2 to reflect the total expected benefits across the project's lifetime.",
           "name": "cost",
           "notes": "",
           "rating": "",
           "type": "Metric",
           "units": "$/tCO2",
           "value": 8.23
          },
          {
           "comment": "Details are provided on plan and process, but no publications or public data are available on the new technology and its performance in reforestation projects.",
           "name": "specificity",
           "notes": "",
           "rating": "",
           "type": "Metric",
           "units": "",
           "value": 1
          }
         ],
         "name": "Droneseed",
         "source": {
          "license": "CC-BY-4.0",
          "name": "Stripe 2020 Negative Emissions Purchase",
          "url": "https://github.com/stripe/negative-emissions-source-materials"
         },
         "tags": [
          "forests",
          "reforestation"
         ],
         "type": "Project"
        },
        {
         "description": "Reforestation projects with verification and monitoring.",
         "geometry": {
          "type": null
         },
         "id": "STRP008",
         "location": {
          "geometry": {
           "type": null
          },
          "name": "Uruguay & CA, USA"
         },
         "metrics": [
          {
           "avoided": 1,
           "comment": "",
           "name": "mechanism",
           "notes": "Projects avoids emissions by avoiding forest loss and removes atmospheric carbon for sequestration in forests and forest products.",
           "rating": 1,
           "removal": 1,
           "type": "Metric",
           "units": "",
           "value": ""
          },
          {
           "comment": "Claimed sequestration rates of 16 and 26 tCO2 / ha / yr for Rip's Redwoods and Guanare, respectively, are on the high end of published literature. Additional details on project (e.g. stand ages) and more information on proprietary quantification methods would be useful for validating volume.",
           "name": "volume",
           "notes": "Volume is the total of two exemplar projects, Rip's Redwoods and Guanare. The Pachama platform offers a larger portfolio of projects, but they are not considered here.",
           "rating": 0,
           "type": "Metric",
           "units": "tCO2",
           "value": 165850
          },
          {
           "comment": "Self-reported value appears unreasonably low, but not enough data is provided for validation. We report the lowest, most conservative ratio. Based on project type, however, we would expect a much higher ratio.",
           "emissions": "N/A",
           "kind": "N/A",
           "name": "negativity",
           "notes": "Claims a range of 0.19 to 0.59 across exemplar projects.",
           "rating": 0,
           "removal": "N/A",
           "type": "Metric",
           "units": "",
           "value": 0.19
          },
          {
           "comment": "We report the minimum across the estimated permanence for the underlying projects (46 and 97), relative to the year of the proposal (2020). Physical risks are mixed with wildfire are high for Guanare, and low to moderate for Rip's Redwoods. Socioeconomic risks are significant due to the risk of default or bankruptcy on this time horizon.",
           "name": "permanence",
           "notes": "Claims 60 years from 2006 for Guanare and 100 years from 2013 for Rip's Redwoods.",
           "rating": 0,
           "type": "Metric",
           "units": "years",
           "value": 46
          },
          {
           "comment": "Guanare project began in 2006, and thus future carbon removals are already assured under these historical land management practices. Rip's Redwood project already credited for standing carbon stock above regional baseline, which indicates a promise not to harvest normally and therefore raises questions about the additionality of ongoing carbon removal credits.",
           "name": "additionality",
           "notes": "Counterfactual scenarios specified for both projects.",
           "rating": "",
           "type": "Metric",
           "units": "",
           "value": 0
          },
          {
           "comment": "",
           "name": "cost",
           "notes": "",
           "rating": "",
           "type": "Metric",
           "units": "$/tCO2",
           "value": 8
          },
          {
           "comment": "Basic project characteristics are described in detail.",
           "name": "specificity",
           "notes": "",
           "rating": "",
           "type": "Metric",
           "units": "",
           "value": 2
          }
         ],
         "name": "Pachama Rip's Redwoods and Guanare",
         "source": {
          "license": "CC-BY-4.0",
          "name": "Stripe 2020 Negative Emissions Purchase",
          "url": "https://github.com/stripe/negative-emissions-source-materials"
         },
         "tags": [
          "forests",
          "broker"
         ],
         "type": "Project"
        },
        {
         "description": "Wave-powered upwelling/downwelling for carbon​ sequestration.",
         "geometry": {
          "type": null
         },
         "id": "STRP009",
         "location": {
          "geometry": {
           "type": null
          },
          "name": "Pacific Ocean (near CA)"
         },
         "metrics": [
          {
           "avoided": 0,
           "comment": "Novel early-stage technology with pilot demonstrations in progress. Dissolved carbon storage in deep oceans raises potential long-term carbon cycle and ocean acidification questions.",
           "name": "mechanism",
           "notes": "Removes carbon from atmosphere via sequestration in phytoplankton and transport of phytoplankton biomass to deep ocean.",
           "rating": 0,
           "removal": 1,
           "type": "Metric",
           "units": "",
           "value": ""
          },
          {
           "comment": "Difficult to assess volume due to early stage of technology.",
           "name": "volume",
           "notes": "Demonstration project to be deployed offshore California or Hawaii. Project volume based on expected carbon removal over 5 years.",
           "rating": 0,
           "type": "Metric",
           "units": "tCO2",
           "value": 693
          },
          {
           "comment": "Project emissions specified in detail, but difficult to validate because technology is early-stage and experimental.",
           "emissions": 3.6854,
           "kind": "project",
           "name": "negativity",
           "notes": "Reported ratio based on project materials, transportation, and business overhead, totaling 3.6854 tCO2 of emissions for 697 tCO2 removed.",
           "rating": 0,
           "removal": 697,
           "type": "Metric",
           "units": "",
           "value": 0.995
          },
          {
           "comment": "Carbon dioxide removed to lower ocean depths can be stable for millennia, but may affect ocean acidity and be exposed to surface-atmosphere interactions. Unlike geologic storage this stock has an implied end date for effectiveness, albeit a potentially very distant one.",
           "name": "permanence",
           "notes": "Claims a maximum of 5000, but with unknown reductions due to the potential for outgassing.",
           "rating": 0,
           "type": "Metric",
           "units": "years",
           "value": 1000
          },
          {
           "comment": "The only reason to implement a project like this is to generate climate benefits, and no such projects are operating today.",
           "name": "additionality",
           "notes": "",
           "rating": "",
           "type": "Metric",
           "units": "",
           "value": 2
          },
          {
           "comment": "",
           "name": "cost",
           "notes": "",
           "rating": "",
           "type": "Metric",
           "units": "$/tCO2",
           "value": 336.07
          },
          {
           "comment": "Reasonably thorough description of technology with references. Specific publications or public data on demonstration projects not available.",
           "name": "specificity",
           "notes": "",
           "rating": "",
           "type": "Metric",
           "units": "",
           "value": 1
          }
         ],
         "name": "Ocean-based Climate Solutions",
         "source": {
          "license": "CC-BY-4.0",
          "name": "Stripe 2020 Negative Emissions Purchase",
          "url": "https://github.com/stripe/negative-emissions-source-materials"
         },
         "tags": [
          "ocean",
          "phytoplankton"
         ],
         "type": "Project"
        },
        {
         "description": "Regenerative land management.",
         "geometry": {
          "type": null
         },
         "id": "STRP010",
         "location": {
          "geometry": {
           "type": null
          },
          "name": ""
         },
         "metrics": [
          {
           "avoided": 0,
           "comment": "Multiple established soil carbon removal pathways exist. Specific mechnaisms for individual projects are not detailed.",
           "name": "mechanism",
           "notes": "Broker facilitates atmospheric carbon removal by providing an incentive to adopt agricultural practices that increase carbon sequestration in soils.",
           "rating": 0,
           "removal": 1,
           "type": "Metric",
           "units": "",
           "value": ""
          },
          {
           "comment": "Claimed rate of 2.5 tCO2 / ha / yr is broadly commensurate with a range from existing literature and models. Few project specific details are available to validate volume further.",
           "name": "volume",
           "notes": "Specific projects not identified. Claimed volume reflects 10-30 plots totaling 13355 ha with an average of 2.5 tCO2 / ha / year.",
           "rating": 0,
           "type": "Metric",
           "units": "tCO2",
           "value": 33000
          },
          {
           "comment": "Connection between existing references, project plans, and future study not clear. Net LCA impacts depend on methane emissions from livestock and no GWP conversion information reported.",
           "emissions": "N/A",
           "kind": "N/A",
           "name": "negativity",
           "notes": "Reported ratio provisional based on several referenced publications, with amended results to be determined in a future study.",
           "rating": 0,
           "removal": "N/A",
           "type": "Metric",
           "units": "",
           "value": 0.5
          },
          {
           "comment": "Soil carbon storage can be reversed by changed land management practices. Soil Value Exchange requires 10-year contractual commitments, so we report the minimum of the contractual agreement and the biogeophysical claim.",
           "name": "permanence",
           "notes": "Claims 1000+ years in the abscence of behavioral changes.",
           "rating": 1,
           "type": "Metric",
           "units": "years",
           "value": 10
          },
          {
           "comment": "Participating projects and their past practices unknown.",
           "name": "additionality",
           "notes": "Counterfactual could include conventional grazing and intensive feedlot grazing, but no projects identified and no historical practices identified at specific project sites.",
           "rating": "",
           "type": "Metric",
           "units": "",
           "value": 1
          },
          {
           "comment": "",
           "name": "cost",
           "notes": "Cost appears to include payments to farmers and monitoring, veritification, and reporting, but no breakdown is specified.",
           "rating": "",
           "type": "Metric",
           "units": "$/tCO2",
           "value": 30
          },
          {
           "comment": "No details available on specific projects. Protocol is under development but not yet available.",
           "name": "specificity",
           "notes": "",
           "rating": "",
           "type": "Metric",
           "units": "",
           "value": 0
          }
         ],
         "name": "Soil Value Exchange",
         "source": {
          "license": "CC-BY-4.0",
          "name": "Stripe 2020 Negative Emissions Purchase",
          "url": "https://github.com/stripe/negative-emissions-source-materials"
         },
         "tags": [
          "soil",
          "broker"
         ],
         "type": "Project"
        },
        {
         "description": "CO2 removal with olivine.",
         "geometry": {
          "type": null
         },
         "id": "STRP011",
         "location": {
          "geometry": {
           "type": null
          },
          "name": "Netherlands"
         },
         "metrics": [
          {
           "avoided": 0,
           "comment": "Not known over relavant time scales whether final form of carbon is carbonate precipitates or dissolved bicarbonate.",
           "name": "mechanism",
           "notes": "Project leverages rainwater to weather ground olivine spread on land. Depending on sediment transfer, olivine weathering can result in alkalization of runoff and/or formation of carbonate precipitates, both of which remove carbon from the atmosphere.",
           "rating": 1,
           "removal": 1,
           "type": "Metric",
           "units": "",
           "value": ""
          },
          {
           "comment": "Few details available on specific deployment plan. Based on public details from other deployments on project website, expected weathering for all GreenSand deposits since 2007 totals 306 tCO2. Given the $/tCO2 cost of project, it is likely that the claimed volume is over a longer time horizon than a single year.",
           "name": "volume",
           "notes": "Timeframe over which expected volume of carbon reductions occurs is not stated.",
           "rating": 0,
           "type": "Metric",
           "units": "tCO2",
           "value": 1000
          },
          {
           "comment": "For consistency, we recompute negativity only for the carbon removal component, yielding a lower number. Detailed analysis only available for one exemplar project, so we are uncertain about the full project portfolio and the specific proposal we analyzed.",
           "emissions": 750,
           "kind": "project",
           "name": "negativity",
           "notes": "Reported ratio for exemplar project based on 2,880 tCO2 removed, 750 tCO2 emitted. LCA also references 509 tCO2 avoided, but avoided emissions are otherwise not considered as part of the project description.",
           "rating": 0,
           "removal": 2880,
           "type": "Metric",
           "units": "",
           "value": 0.74
          },
          {
           "comment": "Successful mineralization produces reliable, effectively permanent carbon storage.",
           "name": "permanence",
           "notes": "",
           "rating": 1,
           "type": "Metric",
           "units": "years",
           "value": 1000
          },
          {
           "comment": "Olivine can be purchased and used separate from its carbon removal benefits, but can also be purchased separately only for carbon removal.",
           "name": "additionality",
           "notes": "Counterfactual is using alternative rocks without carbon removal benefits, at least when olivine is purchased for use as gravel.",
           "rating": "",
           "type": "Metric",
           "units": "",
           "value": 1
          },
          {
           "comment": "",
           "name": "cost",
           "notes": "",
           "rating": "",
           "type": "Metric",
           "units": "$/tCO2",
           "value": 35
          },
          {
           "comment": "Basic technology is reasonably well-described in the published literature. Several project details (including locations and durations) are publicly available.",
           "name": "specificity",
           "notes": "",
           "rating": "",
           "type": "Metric",
           "units": "",
           "value": 1
          }
         ],
         "name": "GreenSand",
         "source": {
          "license": "CC-BY-4.0",
          "name": "Stripe 2020 Negative Emissions Purchase",
          "url": "https://github.com/stripe/negative-emissions-source-materials"
         },
         "tags": [
          "mineralization",
          "materials"
         ],
         "type": "Project"
        },
        {
         "description": "Forest carbon rental markets.",
         "geometry": {
          "type": null
         },
         "id": "STRP012",
         "location": {
          "geometry": {
           "type": null
          },
          "name": "Southern USA"
         },
         "metrics": [
          {
           "avoided": 1,
           "comment": "",
           "name": "mechanism",
           "notes": "Facilitates atmospheric carbon removal by extending time between forest harvests, avoiding emissions due to harvests and sequestering additional carbon in forests and forest products.",
           "rating": 1,
           "removal": 1,
           "type": "Metric",
           "units": "",
           "value": ""
          },
          {
           "comment": "Volume will be relatively straightforward to confirm via stocking estimates as a result of the 1 year project duration. Plausibility of large total volume depends on the number of particpants.",
           "name": "volume",
           "notes": "Volume extrapolated from a pilot implementation in 6 counties in Pennsylvania. Projects in 2020 will be sourced from 11 southern US states. Supply will be allocated via an auction.",
           "rating": 0,
           "type": "Metric",
           "units": "tCO2",
           "value": 15000000
          },
          {
           "comment": "No reason to consider additional emissions given program design.",
           "emissions": 1,
           "kind": "ratio",
           "name": "negativity",
           "notes": "Emissions estimates based soley on the operations of the small office team that will run the program and a field team that periodically verify project conditions.",
           "rating": 1,
           "removal": 1000,
           "type": "Metric",
           "units": "",
           "value": 0.999
          },
          {
           "comment": "Because SilviaTerra uses an annual contracting model, we report 1 year.",
           "name": "permanence",
           "notes": "Claims that carbon removal from a one-year contract can last up to 10 years as a result of supply chain effects in the timber industry.",
           "rating": 1,
           "type": "Metric",
           "units": "years",
           "value": 1
          },
          {
           "comment": "By shifting to a ton-year accounting framework, SilviaTerra intends to avoid additionality concerns by measuring actual carbon stored each year. However, other factors, such as exogenous shifts in timber markets, can still affect additionality considerations with respect to forest harvest decisions. Proprietary methods for measurement and verification against field plots are not yet available.",
           "name": "additionality",
           "notes": "Counteractual is active forest product harvest.",
           "rating": "",
           "type": "Metric",
           "units": "",
           "value": 1
          },
          {
           "comment": "SilviaTerra uses a ton-year accounting that reflects the cost per tCO2 stored per year. Thus, assuming constant price, a contract to store 1 tCO2 for 1 year at $15/tCO2-year would cost $15 and a contract to store 1 tCO2 for 100 years would cost $1,500.",
           "name": "cost",
           "notes": "",
           "rating": "",
           "type": "Metric",
           "units": "$/tCO2-year",
           "value": 15
          },
          {
           "comment": "Reasonably thorough description of program design. Details on specific projects or methods for project quantification or selection are not yet publicly available.",
           "name": "specificity",
           "notes": "",
           "rating": "",
           "type": "Metric",
           "units": "",
           "value": 1
          }
         ],
         "name": "SilviaTerra",
         "source": {
          "license": "CC-BY-4.0",
          "name": "Stripe 2020 Negative Emissions Purchase",
          "url": "https://github.com/stripe/negative-emissions-source-materials"
         },
         "tags": [
          "forests",
          "avoided conversion"
         ],
         "type": "Project"
        },
        {
         "description": "Conversion of annual cropland to sheep/chestnut silvopasture.",
         "geometry": {
          "type": null
         },
         "id": "STRP013",
         "location": {
          "geometry": {
           "type": null
          },
          "name": "Johnsonville, NY, USA"
         },
         "metrics": [
          {
           "avoided": 0,
           "comment": "Planting of chestnut trees is clearly specified. Other practices that will be used to enhance soil carbon are are less clear.",
           "name": "mechanism",
           "notes": "Project integrates tree crops and grazing livestock as silvopasture systems, to sequester carbon in both soil and aboveground biomass.",
           "rating": 1,
           "removal": 1,
           "type": "Metric",
           "units": "",
           "value": ""
          },
          {
           "comment": "We report the lower value offered because it is based on a method that includes a broader range of lifecycle emissions and because the project used the lower volume number to calculate project costs. While COMET-Farm is a publicly available tool, validating volume would require knowing model parameters used. Overall rate of 11.4 tCO2 / ha / yr is high if only including above ground biomass, but may be plausible given broader considerations.",
           "name": "volume",
           "notes": "Volume estimated from calculations using USDA COMET-Planner model (56 tCO2). A higher volume was also provided in parallel using Eric Toensmeier's The Carbon Farming Solution (140 tCO2). Project has 3.2 current ha and intends to add 4.9 ha.",
           "rating": 0,
           "type": "Metric",
           "units": "tCO2",
           "value": 56
          },
          {
           "comment": "Calculation of tractor and transportation emissions appear reasonable. Project ratio is consistent with other reforestation projects, but lifecycle boundaries are not explicit. Specifically, no detail provided on methane emissions from livestock expansion and/or any soil carbon benefits.",
           "emissions": 1,
           "kind": "project",
           "name": "negativity",
           "notes": "Reported ratio based on emissions from on-site tractor use and employee transportation, totaling 1.04 tCO2 for 56 tCO2 removed.",
           "rating": 0,
           "removal": 56,
           "type": "Metric",
           "units": "",
           "value": 0.982
          },
          {
           "comment": "We report 30 as the minimum of the claimed range. Physical risks are low based on location. Socioeconomic risks are significant due to the risk of default or bankruptcy on this time horizon, but could be mitigated if the project buys and restricts its lands instead of leasing them.",
           "name": "permanence",
           "notes": "Claims 30 to 100 years.",
           "rating": 0,
           "type": "Metric",
           "units": "years",
           "value": 30
          },
          {
           "comment": "No specific analysis available.",
           "name": "additionality",
           "notes": "",
           "rating": "",
           "type": "Metric",
           "units": "",
           "value": 1
          },
          {
           "comment": "Rather than use the reported cost of $100, for consistency with other forest projects, we estimate a cost over the 30 year project lifetime using the provided rate of $1416.43 / ha and the information on provide size and volume.",
           "name": "cost",
           "notes": "",
           "rating": "",
           "type": "Metric",
           "units": "$/tCO2",
           "value": 4.14
          },
          {
           "comment": "Methods publicly described and shapefiles for locations provided. Model parameters for COMET-Planner and life cycle boundaries are not yet available.",
           "name": "specificity",
           "notes": "",
           "rating": "",
           "type": "Metric",
           "units": "",
           "value": 1
          }
         ],
         "name": "Breadtree Farms",
         "source": {
          "license": "CC-BY-4.0",
          "name": "Stripe 2020 Negative Emissions Purchase",
          "url": "https://github.com/stripe/negative-emissions-source-materials"
         },
         "tags": [
          "forests",
          "agroforestry"
         ],
         "type": "Project"
        },
        {
         "description": "Biochar production through pyrolysis.",
         "geometry": {
          "type": null
         },
         "id": "STRP014",
         "location": {
          "geometry": {
           "type": null
          },
          "name": "South Sweden"
         },
         "metrics": [
          {
           "avoided": 1,
           "comment": "From a narrow lifecycle perspective, project only avoids biogenic CO2 emissions. From a broad perspective, the same mechanism forms a carbon removal pathway when coupled to biomass production.",
           "name": "mechanism",
           "notes": "Avoids emissions from decomposing biomass resources and transforms them into long-lived biochar materials.",
           "rating": 1,
           "removal": 0,
           "type": "Metric",
           "units": "",
           "value": ""
          },
          {
           "comment": "Volume is based on producing 1746.66 t of biochar with 78% C by mass. For consistency with other biochar projects, volume is decreased by 10% because permanence assumes the duration over which 90% of volume will remain. Further validation of volume would require knowing the decay rates of the feedstock.",
           "name": "volume",
           "notes": "Biochar produced from established production facility.",
           "rating": 0,
           "type": "Metric",
           "units": "tCO2",
           "value": 4500
          },
          {
           "comment": "Analysis required by Puro is pending but not yet completed. Boundary conditions well-specified and LCA components detailed and referenced. Minor permanence adjustment made for consistency with other biochar projects.",
           "emissions": 0.0455,
           "kind": "ratio",
           "name": "negativity",
           "notes": "Reported ratio based on 0.046 tCO2 emitted for 2.79 tCO2 stored, with reported emissions including electricity for pre-treatment, transport, and electricity for pyrolysis. Project uses low-carbon electricity from the Nordic grid for pelletizing and pyrolysis.",
           "rating": 0,
           "removal": 2.50965,
           "type": "Metric",
           "units": "",
           "value": 0.982
          },
          {
           "comment": "Using the reported O:C ratio of 0.039 and a simple published model, we estimate 760 years as an approximate duration over which 90% of biochar C remains. This should be considered approximate, as permanence is only weakly correlated with composition, and likely depends on the storage environment and other factors.",
           "name": "permanence",
           "notes": "Claims 500 to 4000 years.",
           "rating": 1,
           "type": "Metric",
           "units": "years",
           "value": 869
          },
          {
           "comment": "Feedstock is agricultural (seed) waste. Further analysis would require knowing competing uses for feedstock.",
           "name": "additionality",
           "notes": "",
           "rating": "",
           "type": "Metric",
           "units": "",
           "value": 1
          },
          {
           "comment": "",
           "name": "cost",
           "notes": "",
           "rating": "",
           "type": "Metric",
           "units": "$/tCO2",
           "value": 100
          },
          {
           "comment": "Reasonable details provided on project specifics, and uses public analysis as required by Puro for LCA. Third-party audit is pending.",
           "name": "specificity",
           "notes": "",
           "rating": "",
           "type": "Metric",
           "units": "",
           "value": 1
          }
         ],
         "name": "Ecoera",
         "source": {
          "license": "CC-BY-4.0",
          "name": "Stripe 2020 Negative Emissions Purchase",
          "url": "https://github.com/stripe/negative-emissions-source-materials"
         },
         "tags": [
          "biomass",
          "biochar"
         ],
         "type": "Project"
        },
        {
         "description": "Laminated log production from lumber with CO2 sequestration.",
         "geometry": {
          "type": null
         },
         "id": "STRP015",
         "location": {
          "geometry": {
           "type": null
          },
          "name": "Finland"
         },
         "metrics": [
          {
           "avoided": 1,
           "comment": "From a narrow lifecycle perspective, project only avoids biogenic CO2 emissions. From a broad perspective, the same mechanism forms a carbon removal pathway when coupled to biomass production.",
           "name": "mechanism",
           "notes": "Avoids emissions from decomposing biomass and sequesters carbon in laminated wood building materials. May also avoid emissions that would come from producing other materials.",
           "rating": 1,
           "removal": 0,
           "type": "Metric",
           "units": "",
           "value": ""
          },
          {
           "comment": "Species and composition of wood and wood products are well-characterized. Volume appears plausible assuming the given procurement.",
           "name": "volume",
           "notes": "Volume sourced from multiple facilities across Finland to produce laminated lumber from kiln-dried pine and spruce. Claims an annual production capacity of 40000 tCO2. Project is based on the Puro platform.",
           "rating": 1,
           "type": "Metric",
           "units": "tCO2",
           "value": 25000
          },
          {
           "comment": "Analysis performed by third-party with public details, as required by Puro. Boundary conditions well-specified and LCA components detailed and referenced.",
           "emissions": 0.159,
           "kind": "ratio",
           "name": "negativity",
           "notes": "Reported ratio based on 0.16 tCO2 emissions for 0.71 tCO2 stored. Boundary conditions include raw materials through production stage. Excludes transport of finished materials and construction-related emissions.",
           "rating": 1,
           "removal": 0.71,
           "type": "Metric",
           "units": "",
           "value": 0.776
          },
          {
           "comment": "Wood carbon stored in building materials is more durable than in forests. We report 50 as the minimum of the claimed range, which is plausible based on existing literature.",
           "name": "permanence",
           "notes": "Claims 50 to 200 years.",
           "rating": 1,
           "type": "Metric",
           "units": "years",
           "value": 50
          },
          {
           "comment": "",
           "name": "additionality",
           "notes": "Counterfactual is either decomposing biomass resources or using to generate heat or electrical energy.",
           "rating": "",
           "type": "Metric",
           "units": "",
           "value": 1
          },
          {
           "comment": "",
           "name": "cost",
           "notes": "",
           "rating": "",
           "type": "Metric",
           "units": "$/tCO2",
           "value": 20
          },
          {
           "comment": "Public documentation on LCA is available with third-party analysis as required by Puro, but few public details on manufacturing process.",
           "name": "specificity",
           "notes": "",
           "rating": "",
           "type": "Metric",
           "units": "",
           "value": 2
          }
         ],
         "name": "Finnish Log House Industry Association",
         "source": {
          "license": "CC-BY-4.0",
          "name": "Stripe 2020 Negative Emissions Purchase",
          "url": "https://github.com/stripe/negative-emissions-source-materials"
         },
         "tags": [
          "biomass",
          "materials"
         ],
         "type": "Project"
        },
        {
         "description": "Net-negative wood products.",
         "geometry": {
          "type": null
         },
         "id": "STRP016",
         "location": {
          "geometry": {
           "type": null
          },
          "name": "Kouvola, Finland"
         },
         "metrics": [
          {
           "avoided": 1,
           "comment": "From a narrow lifecycle perspective, project only avoids biogenic CO2 emissions. From a broad perspective, the same mechanism forms a carbon removal pathway when coupled to biomass production.",
           "name": "mechanism",
           "notes": "Avoids emissions from decomposing biomass and sequesters carbon in wood and paper-based blown fiber used for insulation.",
           "rating": 1,
           "removal": 0,
           "type": "Metric",
           "units": "",
           "value": ""
          },
          {
           "comment": "Carbon content of insulation products well-characterized. Volume appears plausible assuming the given procurement.",
           "name": "volume",
           "notes": "Volume sourced from multiple facilities across Finland. Project is based on the Puro platform.",
           "rating": 1,
           "type": "Metric",
           "units": "tCO2",
           "value": 21847
          },
          {
           "comment": "Analysis performed by third-party with public details, as required by Puro. Boundary conditions generally well-specified and LCA components detailed and referenced. Paper products form a key component of the feedstock material, so it would be useful to characterize any emissions associated with their production.",
           "emissions": 0.087,
           "kind": "ratio",
           "name": "negativity",
           "notes": "Reported ratio based on 0.087 tCO2 emissions for 1.34 tCO2 stored. Includes raw materials through production stage. Excludes transport of finished materials and construction-related emissions.",
           "rating": 0,
           "removal": 1.34,
           "type": "Metric",
           "units": "",
           "value": 0.935
          },
          {
           "comment": "Wood carbon stored in building materials is likely more durable than in forests, but less is known about the specific blown loose wool materials described here. We report 50 as the minimum of the claimed range, but are unable to validate the duration with confidence.",
           "name": "permanence",
           "notes": "Claims 50 to 400 years.",
           "rating": 0,
           "type": "Metric",
           "units": "years",
           "value": 50
          },
          {
           "comment": "Existing industry has been in production since the 1980s, so the production of insulation does not seem contingent on carbon incentives.",
           "name": "additionality",
           "notes": "",
           "rating": "",
           "type": "Metric",
           "units": "",
           "value": 1
          },
          {
           "comment": "",
           "name": "cost",
           "notes": "",
           "rating": "",
           "type": "Metric",
           "units": "$/tCO2",
           "value": 21.5
          },
          {
           "comment": "Public documentation on LCA is available with third-party analysis as required by Puro, but few public details on manufacturing process.",
           "name": "specificity",
           "notes": "",
           "rating": "",
           "type": "Metric",
           "units": "",
           "value": 1
          }
         ],
         "name": "Ekovilla",
         "source": {
          "license": "CC-BY-4.0",
          "name": "Stripe 2020 Negative Emissions Purchase",
          "url": "https://github.com/stripe/negative-emissions-source-materials"
         },
         "tags": [
          "biomass",
          "materials"
         ],
         "type": "Project"
        },
        {
         "description": "Biochar and carbon negative energy.",
         "geometry": {
          "type": null
         },
         "id": "STRP017",
         "location": {
          "geometry": {
           "type": null
          },
          "name": "Tampere, Finland"
         },
         "metrics": [
          {
           "avoided": 1,
           "comment": "From a narrow lifecycle perspective, project only avoids biogenic CO2 emissions. From a broad perspective, the same mechanism forms a carbon removal pathway when coupled to biomass production.",
           "name": "mechanism",
           "notes": "Avoids emissions from biomass resources and transforms them into long-lived biochar materials.",
           "rating": 1,
           "removal": 0,
           "type": "Metric",
           "units": "",
           "value": ""
          },
          {
           "comment": "Volume is based on producing 681.20 t of biochar with 92% C by mass. For consistency with other biochar projects, volume is decreased by 10% because permanence assumes the duration over which 90% of volume will remain. Further validation of volume would require knowing the decay rates of the feedstock. Also, note that the referenced Puro verification reports a rate of 3.1 tCO2 stored for 1 t of biochar rather than 3.4 tCO2, which would imply a C fraction of 85% rather than 92%.",
           "name": "volume",
           "notes": "Volume sourced from a biochar facility in Finland. Project is based on the Puro platform.",
           "rating": 0,
           "type": "Metric",
           "units": "tCO2",
           "value": 2250
          },
          {
           "comment": "Analysis performed by third-party with public details, as required by Puro. Boundary conditions well-specified and LCA components detailed and referenced. Minor permanence adjustment made for consistency with other biochar projects.",
           "emissions": 0.17,
           "kind": "ratio",
           "name": "negativity",
           "notes": "Reported ratio based on 0.17 tCO2 emitted for 3.4 tCO2 stored. Includes fossil emissions for transporation and pyrolosis. Excludes 1.69 tCO2 emissions from biogenic sources, and does not include transporation to customer.",
           "rating": 1,
           "removal": 3.06,
           "type": "Metric",
           "units": "",
           "value": 0.944
          },
          {
           "comment": "Using the reported O:C ratio of 0.021 and a simple published model, we estimate 1520 years as an approximate duration during which 90% of biochar C remains. This should be considered approximate, as permanence is only weakly correlated with composition, and likely depends on the storage environment and other factors.",
           "name": "permanence",
           "notes": "Claims 100 to 5000 years.",
           "rating": 1,
           "type": "Metric",
           "units": "years",
           "value": 807
          },
          {
           "comment": "Feedstock is residual wood (thinnings). Further analysis would require knowing competing uses for feedstock.",
           "name": "additionality",
           "notes": "",
           "rating": "",
           "type": "Metric",
           "units": "",
           "value": 1
          },
          {
           "comment": "",
           "name": "cost",
           "notes": "",
           "rating": "",
           "type": "Metric",
           "units": "$/tCO2",
           "value": 100
          },
          {
           "comment": "Reasonable details provided on project specifics, public documentation on chemical composition and LCA is available, with third-party analysis as required by Puro.",
           "name": "specificity",
           "notes": "",
           "rating": "",
           "type": "Metric",
           "units": "",
           "value": 2
          }
         ],
         "name": "Carbofex",
         "source": {
          "license": "CC-BY-4.0",
          "name": "Stripe 2020 Negative Emissions Purchase",
          "url": "https://github.com/stripe/negative-emissions-source-materials"
         },
         "tags": [
          "biomass",
          "biochar"
         ],
         "type": "Project"
        },
        {
         "description": "Producing bricks and slips by carbonation.",
         "geometry": {
          "type": null
         },
         "id": "STRP018",
         "location": {
          "geometry": {
           "type": null
          },
          "name": "Finland"
         },
         "metrics": [
          {
           "avoided": 1,
           "comment": "From a narrow lifecycle perspective, project only avoids biogenic CO2 emissions. From a broad perspective, the same mechanism forms a carbon removal pathway when coupled to biomass production.",
           "name": "mechanism",
           "notes": "Captured industrial CO2 source is mineralized to create building materials. Project also reduces emissions associated with conventional concrete production.",
           "rating": 1,
           "removal": 0,
           "type": "Metric",
           "units": "",
           "value": ""
          },
          {
           "comment": "Early stage of technology makes it difficult to independently evaluate volume.",
           "name": "volume",
           "notes": "Volume based on initial production of 100 t of underlying product. Project is based on the Puro platform.",
           "rating": 0,
           "type": "Metric",
           "units": "tCO2",
           "value": 10
          },
          {
           "comment": "Analysis required by Puro is pending but not yet completed. Lacking more detail we report the lowest, most conservative ratio.",
           "emissions": "N/A",
           "kind": "N/A",
           "name": "negativity",
           "notes": "Claims a range of possible ratios from 0.2 to 0.6 but provides no specifics, noting the process can be adjusted to produce different levels of carbon removal relative to emissions.",
           "rating": 0,
           "removal": "N/A",
           "type": "Metric",
           "units": "",
           "value": 0.2
          },
          {
           "comment": "Successful mineralization produces reliable, effectively permanent carbon storage.",
           "name": "permanence",
           "notes": "Claims complete permanence. Mentions resesarch partner for analysis, but no specifics provided.",
           "rating": 1,
           "type": "Metric",
           "units": "years",
           "value": 1000
          },
          {
           "comment": "Project involves initial production from carbon sequestering building materials using relatively expensive CO2 inputs (€75/tCO2).",
           "name": "additionality",
           "notes": "",
           "rating": "",
           "type": "Metric",
           "units": "",
           "value": 2
          },
          {
           "comment": "",
           "name": "cost",
           "notes": "",
           "rating": "",
           "type": "Metric",
           "units": "$/tCO2",
           "value": 20
          },
          {
           "comment": "Several third-party analyses as required by Puro are still pending and not yet available.",
           "name": "specificity",
           "notes": "",
           "rating": "",
           "type": "Metric",
           "units": "",
           "value": 1
          }
         ],
         "name": "Vandersanden",
         "source": {
          "license": "CC-BY-4.0",
          "name": "Stripe 2020 Negative Emissions Purchase",
          "url": "https://github.com/stripe/negative-emissions-source-materials"
         },
         "tags": [
          "mineralization",
          "materials"
         ],
         "type": "Project"
        },
        {
         "description": "Reforestation offset model.",
         "geometry": {
          "type": null
         },
         "id": "STRP019",
         "location": {
          "geometry": {
           "type": null
          },
          "name": "Scotland"
         },
         "metrics": [
          {
           "avoided": 1,
           "comment": "Reforestration of degraded lands is clearly specified, but other aspects of practices to enhance soil carbon remain vague.",
           "name": "mechanism",
           "notes": "Removes carbon from atmosphere for sequestration in forest and soil carbon stocks, and avoids emissions from lost forest carbon.",
           "rating": 1,
           "removal": 1,
           "type": "Metric",
           "units": "",
           "value": ""
          },
          {
           "comment": "Project provides references for forest growth rates, though claimed rates of tCO2 / ha / yr are on the high end of published estimates. Estimates for soil carbon difficult to validate without more specifics on planned management practices or site properties.",
           "name": "volume",
           "notes": "Volume projected for one year on a 174 ha land project in Scotland. Claimed breakdown of total volume includes 18.3 - 25.7 tCO2 / ha / year for above ground biomass, 7.3 - 25.7 tCO2E / ha / year for soil carbon, and 11 - 22 tCO2 / ha / year for biochar.",
           "rating": 0,
           "type": "Metric",
           "units": "tCO2",
           "value": 6380
          },
          {
           "comment": "Boundary conditions and emission sources well-specified, and consistent with similar projects. Claimed carbon removal benefits are on the high end of published estimates, which may explain the high value reported here.",
           "emissions": 29.72,
           "kind": "project",
           "name": "negativity",
           "notes": "Emission calculations based on one-time planting and fencing emissions amortized over 60 years. Various ongoing operations including raising pigs and transporation.",
           "rating": 0,
           "removal": 6380,
           "type": "Metric",
           "units": "",
           "value": 0.995
          },
          {
           "comment": "Project involves both forests and soil carbon. We report 60 years rather than 100 as 60 is mentioned as a minimum specifically for forests. Physical risks are low based on location. Socioeconomic risks are significant due to the risk of default or bankruptcy on this time horizon. Socioeconomic risks could be reduced, as land is owned by project proponent and proponent has indicated the possibility of permanently restricting land use.",
           "name": "permanence",
           "notes": "Claims 100 to 1000 years.",
           "rating": 0,
           "type": "Metric",
           "units": "years",
           "value": 60
          },
          {
           "comment": "",
           "name": "additionality",
           "notes": "Counterfactual not specified, but appears to involve \"degraded\" land remaining degraded.",
           "rating": "",
           "type": "Metric",
           "units": "",
           "value": 1
          },
          {
           "comment": "",
           "name": "cost",
           "notes": "",
           "rating": "",
           "type": "Metric",
           "units": "$/tCO2",
           "value": 20
          },
          {
           "comment": "Reasonably thorough description of project and site, but additional public materials would be useful for analysis (e.g. shapefiles, species composition).",
           "name": "specificity",
           "notes": "",
           "rating": "",
           "type": "Metric",
           "units": "",
           "value": 1
          }
         ],
         "name": "Future Forest",
         "source": {
          "license": "CC-BY-4.0",
          "name": "Stripe 2020 Negative Emissions Purchase",
          "url": "https://github.com/stripe/negative-emissions-source-materials"
         },
         "tags": [
          "forests",
          "reforestation"
         ],
         "type": "Project"
        },
        {
         "description": "Carbon sequestration via logging and wood burial.",
         "geometry": {
          "type": null
         },
         "id": "STRP020",
         "location": {
          "geometry": {
           "type": null
          },
          "name": "East Texas, USA"
         },
         "metrics": [
          {
           "avoided": 1,
           "comment": "Technology has not been vetted in practice nor explored carefully in the scientific literature. Pilot pit has yet to be constructed. From a broad lifecycle perspective, successful deployment would form a carbon removal pathway when coupled to biomass production. From a narrow, project-specific lifecycle perspective, project would only avoid biogenic CO2 emissions.",
           "name": "mechanism",
           "notes": "Avoids biomass emissions by burying wood waste in covered pits.",
           "rating": 0,
           "removal": 0,
           "type": "Metric",
           "units": "",
           "value": ""
          },
          {
           "comment": "Total volume could be plausible if sufficient slash volume can be obtained. Additionally depends on validation of pit design.",
           "name": "volume",
           "notes": "Volume based on loblolly pine waste (slash) to be stored in partially above-ground sealed pits. Total claimed volume reflects pit capacity of 71019 tCO2.",
           "rating": 0,
           "type": "Metric",
           "units": "tCO2",
           "value": 71019
          },
          {
           "comment": "Relatively few details provided. Serious analysis required around the potential for emissions to leak from pit.",
           "emissions": 6804,
           "kind": "project",
           "name": "negativity",
           "notes": "Reported ratio based on both transporation and operations, totaling 6,804 tCO2 emitted for 71,019 tCO2 stored.",
           "rating": 0,
           "removal": 71019,
           "type": "Metric",
           "units": "",
           "value": 0.904
          },
          {
           "comment": "Pits are partially above-ground. Risks of emission leakage or anaerobic decomposition not addressed comprehensively.",
           "name": "permanence",
           "notes": "Claims a range of 88% carbon permanent at 100 years to 99% permanent at 100 years.",
           "rating": 0,
           "type": "Metric",
           "units": "years",
           "value": 100
          },
          {
           "comment": "No commercial value to storing wood waste in pits. Further analysis would require knowing competing uses for feedstock.",
           "name": "additionality",
           "notes": "",
           "rating": "",
           "type": "Metric",
           "units": "",
           "value": 1
          },
          {
           "comment": "",
           "name": "cost",
           "notes": "Costs based on purchase of slash ($5), transportation ($5), chipping ($10), pit construction ($10.50), and verification ($12.00).",
           "rating": "",
           "type": "Metric",
           "units": "$/tCO2",
           "value": 42.5
          },
          {
           "comment": "Only publication on technique is a speculative research proposal. No demonstration projects yet.",
           "name": "specificity",
           "notes": "",
           "rating": "",
           "type": "Metric",
           "units": "",
           "value": 0
          }
         ],
         "name": "Carbon Sequestration Inc",
         "source": {
          "license": "CC-BY-4.0",
          "name": "Stripe 2020 Negative Emissions Purchase",
          "url": "https://github.com/stripe/negative-emissions-source-materials"
         },
         "tags": [
          "biomass",
          "burial"
         ],
         "type": "Project"
        },
        {
         "description": "Protecting forest carbon stock.",
         "geometry": {
          "type": null
         },
         "id": "STRP021",
         "location": {
          "geometry": {
           "coordinates": [
            -81.851,
            36.442
           ],
           "type": "Point"
          },
          "name": "Mountain City, TN, USA"
         },
         "metrics": [
          {
           "avoided": 1,
           "comment": "",
           "name": "mechanism",
           "notes": "Avoids emissions from forest loss and removes carbon from the atmosphere for sequestration in forest carbon.",
           "rating": 1,
           "removal": 1,
           "type": "Metric",
           "units": "",
           "value": ""
          },
          {
           "comment": "Estimates of 166.7 tCO2 / ha for standing stock and 2.9 tCO2 / ha / yr for future growth fall within a highly plausible range based on USFS yield tables.",
           "name": "volume",
           "notes": "Improved forest management project on 8485 acres on state-owned land in Tennessee. Project is projected to generate 770543 tCO2 beneifts over 20 years, the dominant majority of which (545254 tCO2 or 71%) are avoided emissions from forest harvesting. An 18% risk buffer pool is set aside to mitigate against potential reversals, producing a net expected removal of 631845 tCO2. No specific method for calculating forest carbon benefits identified. Buffer pool calculated using American Carbon Registry methods.",
           "rating": 1,
           "type": "Metric",
           "units": "tCO2",
           "value": 631845
          },
          {
           "comment": "High ratio is consistent with similar projects. Project-level emissions are well-specified and forest carbon stocks are readily calculated.",
           "emissions": 40.7,
           "kind": "project",
           "name": "negativity",
           "notes": "Reported ratio based on 40.7 tCO2 emitted for 631,845 tCO2 claimed. Project-level emissions mainly reflect monitoring. Removal used in ratio includes deduction of 18% buffer pool.",
           "rating": 1,
           "removal": 631845,
           "type": "Metric",
           "units": "",
           "value": 1
          },
          {
           "comment": "Project appears to occur over 40-year period, so we report that as the permanence. Physical risks are low based on location. Socioeconomic risks are significant due to the risk of default or bankruptcy on this time horizon. Land is owned by state-chartered entity in Tennessee, which may present a different contractual default risk compared to fully private parties but which is also required to conserve the land for multiple uses. See our comment on additionality.",
           "name": "permanence",
           "notes": "Claims 82% likelihood of permanent storage.",
           "rating": 0,
           "type": "Metric",
           "units": "years",
           "value": 40
          },
          {
           "comment": "By the end of 2020, 56% of total project climate benefits will have been earned via avoided harvest. Thus, the project has already committed to avoid harvest and therefore the expected carbon removal in later years is already assured. As a result, the project appears to be offering climate benefits that have already been promised to other buyers. Land is owned by a state-charted entity that is statutorily obligated to protect the land for multiple uses, of which timber is only one.",
           "name": "additionality",
           "notes": "Counterfactual is harvest of most forest carbon over the period 2018-2021.",
           "rating": "",
           "type": "Metric",
           "units": "",
           "value": 0
          },
          {
           "comment": "",
           "name": "cost",
           "notes": "",
           "rating": "",
           "type": "Metric",
           "units": "$/tCO2",
           "value": 8
          },
          {
           "comment": "Significant project information available from multiple public sources (Stripe Climate 2020 proposal and American Carbon Registry), although digital shapefiles could not be found.",
           "name": "specificity",
           "notes": "",
           "rating": "",
           "type": "Metric",
           "units": "",
           "value": 2
          }
         ],
         "name": "Bluesource Doe Mountain",
         "source": {
          "license": "CC-BY-4.0",
          "name": "Stripe 2020 Negative Emissions Purchase",
          "url": "https://github.com/stripe/negative-emissions-source-materials"
         },
         "tags": [
          "forests",
          "avoided conversion"
         ],
         "type": "Project"
        },
        {
         "description": "Bamboo reforestation and engineered lumber.",
         "geometry": {
          "type": null
         },
         "id": "STRP022",
         "location": {
          "geometry": {
           "type": null
          },
          "name": "Philippines"
         },
         "metrics": [
          {
           "avoided": 0,
           "comment": "",
           "name": "mechanism",
           "notes": "Project removes carbon from atmosphere for sequestration in bamboo and bamboo building materials.",
           "rating": 1,
           "removal": 1,
           "type": "Metric",
           "units": "",
           "value": ""
          },
          {
           "comment": "Inferred rate of 15.7 tCO2 / ha / yr for the first year of growth is high, but within the range of published allometric estimates for other bamboo species. Given large potential variability due to regional conditions, further validation would require ground measurements and/or the project-referenced VCS biomass methodology to be released in 2021.",
           "name": "volume",
           "notes": "Volume based on a 1000 ha pilot, using an unspecified Verified Carbon Standard protocol for calculations. Total includes both 15680 tCO2 based on reforestation and 4020 tCO2 based on storage of existing culms.",
           "rating": 0,
           "type": "Metric",
           "units": "tCO2",
           "value": 19700
          },
          {
           "comment": "Difficult to evaluate without more information. Lack of detail on the manufacturing process raises questions about the high ratio. Frequent harvests may affect emissions.",
           "emissions": "N/A",
           "kind": "N/A",
           "name": "negativity",
           "notes": "Minimal information reported.",
           "rating": 0,
           "removal": "N/A",
           "type": "Metric",
           "units": "",
           "value": 0.98
          },
          {
           "comment": "We report 50 as the minimum of the claimed range. For standing bamboo forests, physical risk to fire may be low, but other physical and socioeconomic risks apply on this time horizon. Wood carbon stored in bamboo products, however, will be more durable than in bamboo forests.",
           "name": "permanence",
           "notes": "Project projects permanence of 80 years for bamboo clumps and 50-100 years for engineered wood products.",
           "rating": 1,
           "type": "Metric",
           "units": "years",
           "value": 50
          },
          {
           "comment": "Project claims that bamboo building materials have reached parity with conventional wood products. This suggests bamboo planting may not require climate policy incentives. No analysis available of competing economics of conventional wood products or alternative land management.",
           "name": "additionality",
           "notes": "Counterfactual not specified. Project appears to target degraded land and suggests alternative land uses, such as native forest plantations, might be feasible but would produce lower overall carbon removal services due to bamboo's extremely high annual productivity.",
           "rating": "",
           "type": "Metric",
           "units": "",
           "value": 1
          },
          {
           "comment": "",
           "name": "cost",
           "notes": "",
           "rating": "",
           "type": "Metric",
           "units": "$/tCO2",
           "value": 10
          },
          {
           "comment": "Reasonably thorough description of project plan. Few details avaialble around engineered lumber products. Project refers to VCS standard that has yet to be released.",
           "name": "specificity",
           "notes": "",
           "rating": "",
           "type": "Metric",
           "units": "",
           "value": 1
          }
         ],
         "name": "Rizome",
         "source": {
          "license": "CC-BY-4.0",
          "name": "Stripe 2020 Negative Emissions Purchase",
          "url": "https://github.com/stripe/negative-emissions-source-materials"
         },
         "tags": [
          "forests",
          "materials"
         ],
         "type": "Project"
        },
        {
         "description": "Accelerating olivine weathering with wave power for CO2 removal.",
         "geometry": {
          "type": null
         },
         "id": "STRP023",
         "location": {
          "geometry": {
           "type": null
          },
          "name": "Caribbean"
         },
         "metrics": [
          {
           "avoided": 0,
           "comment": "Some uncertainty around whether final form of carbon is dissolved bicarbonate or carbonate precipitates.",
           "name": "mechanism",
           "notes": "Project uses wave power to enhance weathering of olivine spread on beaches. Olivine weathering primarily results in ocean alkalization, which removes carbon from the atmosphere.",
           "rating": 1,
           "removal": 1,
           "type": "Metric",
           "units": "",
           "value": ""
          },
          {
           "comment": "Assuming the stated ratio of 1.25 tCO2 removed per 1 tCO2 of olivine, we infer 160 t of olivine will be procured. That ratio likely an upper bound, and in genreal some uncertainty remains around the actual volume of carbon removal that is likely with this approach, requiring further work to validate.",
           "name": "volume",
           "notes": "Volume projected based on total crushed olivine supply to pilot project site.",
           "rating": 0,
           "type": "Metric",
           "units": "tCO2",
           "value": 200
          },
          {
           "comment": "Boundary conditions well-specified and references documented. Project emissions are well-characterzied, but reported number depends on the successful use of waves for secondary and tertiary grinding, and on the claimed ratio of 1.25 tCO2 removed for 1 t of olivine, which is an upper bound. Thus, while the estimate is plausible, some uncertainty remains.",
           "emissions": 0.049,
           "kind": "project",
           "name": "negativity",
           "notes": "Reported ratio based on 0.049 tCO2 for 1.25 tCO2 removed, including energy for mining, milling, and transport. Higher negativity ratio than other mineralization projects is due to using wave energy to displace secondary and tertiary grinding of olivine to small particles needed for carbon removal.",
           "rating": 0,
           "removal": 1.25,
           "type": "Metric",
           "units": "",
           "value": 0.961
          },
          {
           "comment": "Successful mineralization produces reliable, effectively permanent carbon storage.",
           "name": "permanence",
           "notes": "Claims 100k - 100M years.",
           "rating": 1,
           "type": "Metric",
           "units": "years",
           "value": 1000
          },
          {
           "comment": "Project would only be pursued for carbon removal purposes. No intrinsic commerical value.",
           "name": "additionality",
           "notes": "",
           "rating": "",
           "type": "Metric",
           "units": "",
           "value": 2
          },
          {
           "comment": "",
           "name": "cost",
           "notes": "",
           "rating": "",
           "type": "Metric",
           "units": "$/tCO2",
           "value": 50
          },
          {
           "comment": "Project details provided in public proposal with several public white papers and references. Further detail could be provided in the future through public data on pilot deployments.",
           "name": "specificity",
           "notes": "",
           "rating": "",
           "type": "Metric",
           "units": "",
           "value": 2
          }
         ],
         "name": "Project Vesta",
         "source": {
          "license": "CC-BY-4.0",
          "name": "Stripe 2020 Negative Emissions Purchase",
          "url": "https://github.com/stripe/negative-emissions-source-materials"
         },
         "tags": [
          "mineralization",
          "ocean"
         ],
         "type": "Project"
        },
        {
         "description": "Geological sequestration of bio-oil",
         "geometry": {
          "type": null
         },
         "id": "STRP024",
         "location": {
          "geometry": {
           "type": null
          },
          "name": "CA, USA"
         },
         "metrics": [
          {
           "avoided": 1,
           "comment": "Both components of the process are well established, and their combination has been proposed but not yet performed. From a narrow lifecycle perspective, project only avoids CO2 emissions by sourcing bio-oil that would otherwise be burned producing CO2 emissions. From a broad perspective, the biomass and bio-oil production coupled to injection forms a carbon removal pathway. Geological sequestration capacity could become a constraint at larger scales.",
           "name": "mechanism",
           "notes": "Project uses bio-oil converted from biomass via fast pyrolysism and then pumped into an underground waste disposal well for geological storage.",
           "rating": 1,
           "removal": 0,
           "type": "Metric",
           "units": "",
           "value": ""
          },
          {
           "comment": "Given the stated ratio of 1.55 tCO2 for 1 t of bio-oil, we infer 6452 t of bio-oil will be procured. Assuming that amount is procured, the volume is plausible.",
           "name": "volume",
           "notes": "Volume based on the amount of bio-oil that will be procured for inejection. Bio-oil production is stated as a limiting factor.",
           "rating": 1,
           "type": "Metric",
           "units": "tCO2",
           "value": 10000
          },
          {
           "comment": "Comprehensive LCA is pending analysis via independent consultant. Boundary conditions for process are well-specified and numbers derived from plausible, though approximate, sources.",
           "emissions": 0.347,
           "kind": "ratio",
           "name": "negativity",
           "notes": "Reported ratio based on 0.34 tCO2 emitted for 1.55 tCO2 sequestered, including emissions due to bio-oil production, transporation to well, and injection.",
           "rating": 0,
           "removal": 1.53,
           "type": "Metric",
           "units": "",
           "value": 0.773
          },
          {
           "comment": "Successful geological injection produces reliable, effectively permanent carbon storage.",
           "name": "permanence",
           "notes": "Claims 300M based on permanence of existing crude oil in the same geological formation (Permian Basin).",
           "rating": 1,
           "type": "Metric",
           "units": "years",
           "value": 1000
          },
          {
           "comment": "Competing uses of bio-oil assumed to be burning for energy. Further analysis would require more information on competing uses. Some possibility that procurement of bio-oil will expand production.",
           "name": "additionality",
           "notes": "",
           "rating": "",
           "type": "Metric",
           "units": "",
           "value": 1
          },
          {
           "comment": "",
           "name": "cost",
           "notes": "Costs based on bio-oil procurement (72%), transport (18%), and injection (10%)",
           "rating": "",
           "type": "Metric",
           "units": "$/tCO2",
           "value": 600
          },
          {
           "comment": "Project specifies process and plan in detail, and both the process components and their combination are based on existing demonstrations and published literature. Further detail could be provided in the future through public data on pilot deployments.",
           "name": "specificity",
           "notes": "",
           "rating": "",
           "type": "Metric",
           "units": "",
           "value": 2
          }
         ],
         "name": "Charm Industrial",
         "source": {
          "license": "CC-BY-4.0",
          "name": "Stripe 2020 Negative Emissions Purchase",
          "url": "https://github.com/stripe/negative-emissions-source-materials"
         },
         "tags": [
          "biomass",
          "injection"
         ],
         "type": "Project"
        }
       ],
       "type": "ProjectCollection"
      },
      "text/plain": [
       "<IPython.core.display.JSON object>"
      ]
     },
     "execution_count": 4,
     "metadata": {
      "application/json": {
       "expanded": false,
       "root": "project_collection"
      }
     },
     "output_type": "execute_result"
    }
   ],
   "source": [
    "project_collection = requests.get('https://api.carbonplan.org/projects.json').json()\n",
    "JSON(project_collection, root='project_collection')"
   ]
  },
  {
   "cell_type": "markdown",
   "metadata": {},
   "source": [
    "Individual projects can be requested using query parameters. In the example below, we point our API request at `id=STRP01`:"
   ]
  },
  {
   "cell_type": "code",
   "execution_count": 5,
   "metadata": {},
   "outputs": [
    {
     "data": {
      "application/json": {},
      "text/plain": [
       "<IPython.core.display.JSON object>"
      ]
     },
     "execution_count": 5,
     "metadata": {
      "application/json": {
       "expanded": false,
       "root": "root"
      }
     },
     "output_type": "execute_result"
    }
   ],
   "source": [
    "one_project = requests.get('https://api.carbonplan.org/projects.json?id=STRP01').json()\n",
    "JSON(one_project)"
   ]
  },
  {
   "cell_type": "markdown",
   "metadata": {},
   "source": [
    "The Projects data is also available in CSV format: https://api.carbonplan.org/projects.csv"
   ]
  },
  {
   "cell_type": "code",
   "execution_count": 6,
   "metadata": {},
   "outputs": [
    {
     "data": {
      "text/html": [
       "<div>\n",
       "<style scoped>\n",
       "    .dataframe tbody tr th:only-of-type {\n",
       "        vertical-align: middle;\n",
       "    }\n",
       "\n",
       "    .dataframe tbody tr th {\n",
       "        vertical-align: top;\n",
       "    }\n",
       "\n",
       "    .dataframe thead th {\n",
       "        text-align: right;\n",
       "    }\n",
       "</style>\n",
       "<table border=\"1\" class=\"dataframe\">\n",
       "  <thead>\n",
       "    <tr style=\"text-align: right;\">\n",
       "      <th></th>\n",
       "      <th>id</th>\n",
       "      <th>description</th>\n",
       "      <th>('mechanism', 'value')</th>\n",
       "      <th>('mechanism', 'units')</th>\n",
       "      <th>('mechanism', 'rating')</th>\n",
       "      <th>('mechanism', 'notes')</th>\n",
       "      <th>('mechanism', 'comment')</th>\n",
       "      <th>('mechanism', 'removal')</th>\n",
       "      <th>('mechanism', 'avoided')</th>\n",
       "      <th>('volume', 'value')</th>\n",
       "      <th>...</th>\n",
       "      <th>('specificity', 'value')</th>\n",
       "      <th>('specificity', 'units')</th>\n",
       "      <th>('specificity', 'rating')</th>\n",
       "      <th>('specificity', 'notes')</th>\n",
       "      <th>('specificity', 'comment')</th>\n",
       "      <th>('source', 'name')</th>\n",
       "      <th>('source', 'license')</th>\n",
       "      <th>('source', 'url')</th>\n",
       "      <th>('tag', 0)</th>\n",
       "      <th>('tag', 1)</th>\n",
       "    </tr>\n",
       "    <tr>\n",
       "      <th>name</th>\n",
       "      <th></th>\n",
       "      <th></th>\n",
       "      <th></th>\n",
       "      <th></th>\n",
       "      <th></th>\n",
       "      <th></th>\n",
       "      <th></th>\n",
       "      <th></th>\n",
       "      <th></th>\n",
       "      <th></th>\n",
       "      <th></th>\n",
       "      <th></th>\n",
       "      <th></th>\n",
       "      <th></th>\n",
       "      <th></th>\n",
       "      <th></th>\n",
       "      <th></th>\n",
       "      <th></th>\n",
       "      <th></th>\n",
       "      <th></th>\n",
       "      <th></th>\n",
       "    </tr>\n",
       "  </thead>\n",
       "  <tbody>\n",
       "    <tr>\n",
       "      <th>Climeworks</th>\n",
       "      <td>STRP001</td>\n",
       "      <td>Direct air capture and mineralization.</td>\n",
       "      <td>NaN</td>\n",
       "      <td>NaN</td>\n",
       "      <td>1.0</td>\n",
       "      <td>Removes carbon from the atmosphere using a sol...</td>\n",
       "      <td>NaN</td>\n",
       "      <td>1.0</td>\n",
       "      <td>0.0</td>\n",
       "      <td>50.0</td>\n",
       "      <td>...</td>\n",
       "      <td>1.0</td>\n",
       "      <td>NaN</td>\n",
       "      <td>NaN</td>\n",
       "      <td>NaN</td>\n",
       "      <td>Basic technology is well understood through bo...</td>\n",
       "      <td>Stripe 2020 Negative Emissions Purchase</td>\n",
       "      <td>CC-BY-4.0</td>\n",
       "      <td>https://github.com/stripe/negative-emissions-s...</td>\n",
       "      <td>dac</td>\n",
       "      <td>mineralization</td>\n",
       "    </tr>\n",
       "    <tr>\n",
       "      <th>CarbonCure</th>\n",
       "      <td>STRP002</td>\n",
       "      <td>Carbon reductions in concrete.</td>\n",
       "      <td>NaN</td>\n",
       "      <td>NaN</td>\n",
       "      <td>1.0</td>\n",
       "      <td>Captured industrial CO2 source is mineralized ...</td>\n",
       "      <td>From a narrow lifecycle perspective, project o...</td>\n",
       "      <td>0.0</td>\n",
       "      <td>1.0</td>\n",
       "      <td>60000.0</td>\n",
       "      <td>...</td>\n",
       "      <td>1.0</td>\n",
       "      <td>NaN</td>\n",
       "      <td>NaN</td>\n",
       "      <td>NaN</td>\n",
       "      <td>Publications on specific techology are not yet...</td>\n",
       "      <td>Stripe 2020 Negative Emissions Purchase</td>\n",
       "      <td>CC-BY-4.0</td>\n",
       "      <td>https://github.com/stripe/negative-emissions-s...</td>\n",
       "      <td>mineralization</td>\n",
       "      <td>materials</td>\n",
       "    </tr>\n",
       "    <tr>\n",
       "      <th>Nori Harborview Farms</th>\n",
       "      <td>STRP003</td>\n",
       "      <td>Increasing soil carbon sequestration and soil ...</td>\n",
       "      <td>NaN</td>\n",
       "      <td>NaN</td>\n",
       "      <td>0.0</td>\n",
       "      <td>Broker facilitates atmospheric carbon removal ...</td>\n",
       "      <td>Multiple established soil carbon removal pathw...</td>\n",
       "      <td>1.0</td>\n",
       "      <td>0.0</td>\n",
       "      <td>14011.0</td>\n",
       "      <td>...</td>\n",
       "      <td>1.0</td>\n",
       "      <td>NaN</td>\n",
       "      <td>NaN</td>\n",
       "      <td>NaN</td>\n",
       "      <td>Several project details (e.g. plot locations) ...</td>\n",
       "      <td>Stripe 2020 Negative Emissions Purchase</td>\n",
       "      <td>CC-BY-4.0</td>\n",
       "      <td>https://github.com/stripe/negative-emissions-s...</td>\n",
       "      <td>soil</td>\n",
       "      <td>broker</td>\n",
       "    </tr>\n",
       "    <tr>\n",
       "      <th>Indigo Ag</th>\n",
       "      <td>STRP004</td>\n",
       "      <td>Regenerative farming practices for soil carbon...</td>\n",
       "      <td>NaN</td>\n",
       "      <td>NaN</td>\n",
       "      <td>0.0</td>\n",
       "      <td>Broker facilitates atmospheric carbon removal ...</td>\n",
       "      <td>Multiple established soil carbon removal pathw...</td>\n",
       "      <td>1.0</td>\n",
       "      <td>0.0</td>\n",
       "      <td>550000.0</td>\n",
       "      <td>...</td>\n",
       "      <td>0.0</td>\n",
       "      <td>NaN</td>\n",
       "      <td>NaN</td>\n",
       "      <td>NaN</td>\n",
       "      <td>No information or data on specific projects ar...</td>\n",
       "      <td>Stripe 2020 Negative Emissions Purchase</td>\n",
       "      <td>CC-BY-4.0</td>\n",
       "      <td>https://github.com/stripe/negative-emissions-s...</td>\n",
       "      <td>soil</td>\n",
       "      <td>broker</td>\n",
       "    </tr>\n",
       "    <tr>\n",
       "      <th>Biorecro</th>\n",
       "      <td>STRP005</td>\n",
       "      <td>Supporting bio-energy with carbon capture and ...</td>\n",
       "      <td>NaN</td>\n",
       "      <td>NaN</td>\n",
       "      <td>0.0</td>\n",
       "      <td>Broker facilitates BECCS projects, which avoid...</td>\n",
       "      <td>BECCS is a well-established technology. Projec...</td>\n",
       "      <td>1.0</td>\n",
       "      <td>1.0</td>\n",
       "      <td>50000.0</td>\n",
       "      <td>...</td>\n",
       "      <td>0.0</td>\n",
       "      <td>NaN</td>\n",
       "      <td>NaN</td>\n",
       "      <td>NaN</td>\n",
       "      <td>Basic technology is well understood. Few data ...</td>\n",
       "      <td>Stripe 2020 Negative Emissions Purchase</td>\n",
       "      <td>CC-BY-4.0</td>\n",
       "      <td>https://github.com/stripe/negative-emissions-s...</td>\n",
       "      <td>biomass</td>\n",
       "      <td>broker</td>\n",
       "    </tr>\n",
       "  </tbody>\n",
       "</table>\n",
       "<p>5 rows × 47 columns</p>\n",
       "</div>"
      ],
      "text/plain": [
       "                            id  \\\n",
       "name                             \n",
       "Climeworks             STRP001   \n",
       "CarbonCure             STRP002   \n",
       "Nori Harborview Farms  STRP003   \n",
       "Indigo Ag              STRP004   \n",
       "Biorecro               STRP005   \n",
       "\n",
       "                                                             description  \\\n",
       "name                                                                       \n",
       "Climeworks                        Direct air capture and mineralization.   \n",
       "CarbonCure                                Carbon reductions in concrete.   \n",
       "Nori Harborview Farms  Increasing soil carbon sequestration and soil ...   \n",
       "Indigo Ag              Regenerative farming practices for soil carbon...   \n",
       "Biorecro               Supporting bio-energy with carbon capture and ...   \n",
       "\n",
       "                       ('mechanism', 'value')  ('mechanism', 'units')  \\\n",
       "name                                                                    \n",
       "Climeworks                                NaN                     NaN   \n",
       "CarbonCure                                NaN                     NaN   \n",
       "Nori Harborview Farms                     NaN                     NaN   \n",
       "Indigo Ag                                 NaN                     NaN   \n",
       "Biorecro                                  NaN                     NaN   \n",
       "\n",
       "                       ('mechanism', 'rating')  \\\n",
       "name                                             \n",
       "Climeworks                                 1.0   \n",
       "CarbonCure                                 1.0   \n",
       "Nori Harborview Farms                      0.0   \n",
       "Indigo Ag                                  0.0   \n",
       "Biorecro                                   0.0   \n",
       "\n",
       "                                                  ('mechanism', 'notes')  \\\n",
       "name                                                                       \n",
       "Climeworks             Removes carbon from the atmosphere using a sol...   \n",
       "CarbonCure             Captured industrial CO2 source is mineralized ...   \n",
       "Nori Harborview Farms  Broker facilitates atmospheric carbon removal ...   \n",
       "Indigo Ag              Broker facilitates atmospheric carbon removal ...   \n",
       "Biorecro               Broker facilitates BECCS projects, which avoid...   \n",
       "\n",
       "                                                ('mechanism', 'comment')  \\\n",
       "name                                                                       \n",
       "Climeworks                                                           NaN   \n",
       "CarbonCure             From a narrow lifecycle perspective, project o...   \n",
       "Nori Harborview Farms  Multiple established soil carbon removal pathw...   \n",
       "Indigo Ag              Multiple established soil carbon removal pathw...   \n",
       "Biorecro               BECCS is a well-established technology. Projec...   \n",
       "\n",
       "                       ('mechanism', 'removal')  ('mechanism', 'avoided')  \\\n",
       "name                                                                        \n",
       "Climeworks                                  1.0                       0.0   \n",
       "CarbonCure                                  0.0                       1.0   \n",
       "Nori Harborview Farms                       1.0                       0.0   \n",
       "Indigo Ag                                   1.0                       0.0   \n",
       "Biorecro                                    1.0                       1.0   \n",
       "\n",
       "                       ('volume', 'value')  ... ('specificity', 'value')  \\\n",
       "name                                        ...                            \n",
       "Climeworks                            50.0  ...                      1.0   \n",
       "CarbonCure                         60000.0  ...                      1.0   \n",
       "Nori Harborview Farms              14011.0  ...                      1.0   \n",
       "Indigo Ag                         550000.0  ...                      0.0   \n",
       "Biorecro                           50000.0  ...                      0.0   \n",
       "\n",
       "                       ('specificity', 'units') ('specificity', 'rating')  \\\n",
       "name                                                                        \n",
       "Climeworks                                  NaN                       NaN   \n",
       "CarbonCure                                  NaN                       NaN   \n",
       "Nori Harborview Farms                       NaN                       NaN   \n",
       "Indigo Ag                                   NaN                       NaN   \n",
       "Biorecro                                    NaN                       NaN   \n",
       "\n",
       "                      ('specificity', 'notes')  \\\n",
       "name                                             \n",
       "Climeworks                                 NaN   \n",
       "CarbonCure                                 NaN   \n",
       "Nori Harborview Farms                      NaN   \n",
       "Indigo Ag                                  NaN   \n",
       "Biorecro                                   NaN   \n",
       "\n",
       "                                              ('specificity', 'comment')  \\\n",
       "name                                                                       \n",
       "Climeworks             Basic technology is well understood through bo...   \n",
       "CarbonCure             Publications on specific techology are not yet...   \n",
       "Nori Harborview Farms  Several project details (e.g. plot locations) ...   \n",
       "Indigo Ag              No information or data on specific projects ar...   \n",
       "Biorecro               Basic technology is well understood. Few data ...   \n",
       "\n",
       "                                            ('source', 'name')  \\\n",
       "name                                                             \n",
       "Climeworks             Stripe 2020 Negative Emissions Purchase   \n",
       "CarbonCure             Stripe 2020 Negative Emissions Purchase   \n",
       "Nori Harborview Farms  Stripe 2020 Negative Emissions Purchase   \n",
       "Indigo Ag              Stripe 2020 Negative Emissions Purchase   \n",
       "Biorecro               Stripe 2020 Negative Emissions Purchase   \n",
       "\n",
       "                       ('source', 'license')  \\\n",
       "name                                           \n",
       "Climeworks                         CC-BY-4.0   \n",
       "CarbonCure                         CC-BY-4.0   \n",
       "Nori Harborview Farms              CC-BY-4.0   \n",
       "Indigo Ag                          CC-BY-4.0   \n",
       "Biorecro                           CC-BY-4.0   \n",
       "\n",
       "                                                       ('source', 'url')  \\\n",
       "name                                                                       \n",
       "Climeworks             https://github.com/stripe/negative-emissions-s...   \n",
       "CarbonCure             https://github.com/stripe/negative-emissions-s...   \n",
       "Nori Harborview Farms  https://github.com/stripe/negative-emissions-s...   \n",
       "Indigo Ag              https://github.com/stripe/negative-emissions-s...   \n",
       "Biorecro               https://github.com/stripe/negative-emissions-s...   \n",
       "\n",
       "                           ('tag', 0)      ('tag', 1)  \n",
       "name                                                   \n",
       "Climeworks                        dac  mineralization  \n",
       "CarbonCure             mineralization       materials  \n",
       "Nori Harborview Farms            soil          broker  \n",
       "Indigo Ag                        soil          broker  \n",
       "Biorecro                      biomass          broker  \n",
       "\n",
       "[5 rows x 47 columns]"
      ]
     },
     "execution_count": 6,
     "metadata": {},
     "output_type": "execute_result"
    }
   ],
   "source": [
    "projects = pd.read_csv('https://api.carbonplan.org/projects.csv', index_col='name')\n",
    "projects.head()"
   ]
  },
  {
   "cell_type": "markdown",
   "metadata": {},
   "source": [
    "### Sample Analysis\n",
    "\n",
    "Now that we've gone over how to access CarbonPlan's API, we can turn to some sample analysis. Here we'll simply take the full project collection as read from the CSV endpoint above."
   ]
  },
  {
   "cell_type": "code",
   "execution_count": 7,
   "metadata": {},
   "outputs": [
    {
     "data": {
      "text/html": [
       "<div>\n",
       "<style scoped>\n",
       "    .dataframe tbody tr th:only-of-type {\n",
       "        vertical-align: middle;\n",
       "    }\n",
       "\n",
       "    .dataframe tbody tr th {\n",
       "        vertical-align: top;\n",
       "    }\n",
       "\n",
       "    .dataframe thead th {\n",
       "        text-align: right;\n",
       "    }\n",
       "</style>\n",
       "<table border=\"1\" class=\"dataframe\">\n",
       "  <thead>\n",
       "    <tr style=\"text-align: right;\">\n",
       "      <th></th>\n",
       "      <th>cost</th>\n",
       "      <th>volume</th>\n",
       "      <th>negativity</th>\n",
       "      <th>permanence</th>\n",
       "      <th>tag</th>\n",
       "    </tr>\n",
       "    <tr>\n",
       "      <th>name</th>\n",
       "      <th></th>\n",
       "      <th></th>\n",
       "      <th></th>\n",
       "      <th></th>\n",
       "      <th></th>\n",
       "    </tr>\n",
       "  </thead>\n",
       "  <tbody>\n",
       "    <tr>\n",
       "      <th>Climeworks</th>\n",
       "      <td>767.5</td>\n",
       "      <td>50.0</td>\n",
       "      <td>0.900</td>\n",
       "      <td>1000.0</td>\n",
       "      <td>dac</td>\n",
       "    </tr>\n",
       "    <tr>\n",
       "      <th>CarbonCure</th>\n",
       "      <td>100.0</td>\n",
       "      <td>60000.0</td>\n",
       "      <td>0.824</td>\n",
       "      <td>1000.0</td>\n",
       "      <td>mineralization</td>\n",
       "    </tr>\n",
       "    <tr>\n",
       "      <th>Nori Harborview Farms</th>\n",
       "      <td>16.5</td>\n",
       "      <td>14011.0</td>\n",
       "      <td>NaN</td>\n",
       "      <td>10.0</td>\n",
       "      <td>soil</td>\n",
       "    </tr>\n",
       "    <tr>\n",
       "      <th>Indigo Ag</th>\n",
       "      <td>20.0</td>\n",
       "      <td>550000.0</td>\n",
       "      <td>NaN</td>\n",
       "      <td>100.0</td>\n",
       "      <td>soil</td>\n",
       "    </tr>\n",
       "    <tr>\n",
       "      <th>Biorecro</th>\n",
       "      <td>99.0</td>\n",
       "      <td>50000.0</td>\n",
       "      <td>0.900</td>\n",
       "      <td>1000.0</td>\n",
       "      <td>biomass</td>\n",
       "    </tr>\n",
       "  </tbody>\n",
       "</table>\n",
       "</div>"
      ],
      "text/plain": [
       "                        cost    volume  negativity  permanence             tag\n",
       "name                                                                          \n",
       "Climeworks             767.5      50.0       0.900      1000.0             dac\n",
       "CarbonCure             100.0   60000.0       0.824      1000.0  mineralization\n",
       "Nori Harborview Farms   16.5   14011.0         NaN        10.0            soil\n",
       "Indigo Ag               20.0  550000.0         NaN       100.0            soil\n",
       "Biorecro                99.0   50000.0       0.900      1000.0         biomass"
      ]
     },
     "execution_count": 7,
     "metadata": {},
     "output_type": "execute_result"
    }
   ],
   "source": [
    "metrics = ['cost', 'volume', 'negativity', 'permanence']\n",
    "metrics_df = pd.DataFrame.from_dict({m: projects[f\"('{m}', 'value')\"] for m in metrics})\n",
    "metrics_df['tag'] = projects[\"('tag', 0)\"]\n",
    "metrics_df.head()"
   ]
  },
  {
   "cell_type": "markdown",
   "metadata": {},
   "source": [
    "From here, we can start doing some real analysis and data visualization with our metrics `DataFrame`.\n",
    "\n",
    "In the section below, we'll make a few of charts that are shown on https://reports.carbonplan.org. We use [Altair](https://altair-viz.github.io/) to make a few interactive vizualizations."
   ]
  },
  {
   "cell_type": "code",
   "execution_count": 8,
   "metadata": {},
   "outputs": [],
   "source": [
    "colors = {\n",
    "    'mineralization': '#a9b4c4',\n",
    "    'soil': '#ea9755',\n",
    "    'biomass': '#d4c05e',\n",
    "    'forests': '#7eb36a',\n",
    "    'ocean': '#64b9c4',\n",
    "    'dac': '#bc85d9'\n",
    "}\n",
    "color_scale = alt.Color('tag:N', scale=alt.Scale(domain=list(colors.keys()), range=list(colors.values())))\n",
    "tooltip = ['name', 'volume', 'cost', 'permanence', 'negativity']"
   ]
  },
  {
   "cell_type": "code",
   "execution_count": 9,
   "metadata": {},
   "outputs": [
    {
     "data": {
      "text/html": [
       "\n",
       "<div id=\"altair-viz-1100d4de105c47e4a0a9d4d3468138d4\"></div>\n",
       "<script type=\"text/javascript\">\n",
       "  (function(spec, embedOpt){\n",
       "    const outputDiv = document.getElementById(\"altair-viz-1100d4de105c47e4a0a9d4d3468138d4\");\n",
       "    const paths = {\n",
       "      \"vega\": \"https://cdn.jsdelivr.net/npm//vega@5?noext\",\n",
       "      \"vega-lib\": \"https://cdn.jsdelivr.net/npm//vega-lib?noext\",\n",
       "      \"vega-lite\": \"https://cdn.jsdelivr.net/npm//vega-lite@4.0.2?noext\",\n",
       "      \"vega-embed\": \"https://cdn.jsdelivr.net/npm//vega-embed@6?noext\",\n",
       "    };\n",
       "\n",
       "    function loadScript(lib) {\n",
       "      return new Promise(function(resolve, reject) {\n",
       "        var s = document.createElement('script');\n",
       "        s.src = paths[lib];\n",
       "        s.async = true;\n",
       "        s.onload = () => resolve(paths[lib]);\n",
       "        s.onerror = () => reject(`Error loading script: ${paths[lib]}`);\n",
       "        document.getElementsByTagName(\"head\")[0].appendChild(s);\n",
       "      });\n",
       "    }\n",
       "\n",
       "    function showError(err) {\n",
       "      outputDiv.innerHTML = `<div class=\"error\" style=\"color:red;\">${err}</div>`;\n",
       "      throw err;\n",
       "    }\n",
       "\n",
       "    function displayChart(vegaEmbed) {\n",
       "      vegaEmbed(outputDiv, spec, embedOpt)\n",
       "        .catch(err => showError(`Javascript Error: ${err.message}<br>This usually means there's a typo in your chart specification. See the javascript console for the full traceback.`));\n",
       "    }\n",
       "\n",
       "    if(typeof define === \"function\" && define.amd) {\n",
       "      requirejs.config({paths});\n",
       "      require([\"vega-embed\"], displayChart, err => showError(`Error loading script: ${err.message}`));\n",
       "    } else if (typeof vegaEmbed === \"function\") {\n",
       "      displayChart(vegaEmbed);\n",
       "    } else {\n",
       "      loadScript(\"vega\")\n",
       "        .then(() => loadScript(\"vega-lite\"))\n",
       "        .then(() => loadScript(\"vega-embed\"))\n",
       "        .catch(showError)\n",
       "        .then(() => displayChart(vegaEmbed));\n",
       "    }\n",
       "  })({\"config\": {\"view\": {\"continuousWidth\": 400, \"continuousHeight\": 300}, \"axis\": {\"grid\": false}}, \"hconcat\": [{\"mark\": {\"type\": \"circle\", \"size\": 200}, \"encoding\": {\"color\": {\"type\": \"nominal\", \"field\": \"tag\", \"scale\": {\"domain\": [\"mineralization\", \"soil\", \"biomass\", \"forests\", \"ocean\", \"dac\"], \"range\": [\"#a9b4c4\", \"#ea9755\", \"#d4c05e\", \"#7eb36a\", \"#64b9c4\", \"#bc85d9\"]}}, \"opacity\": {\"condition\": {\"value\": 1, \"selection\": {\"or\": [\"selector001\", \"selector002\"]}}, \"value\": 0.4}, \"tooltip\": [{\"type\": \"nominal\", \"field\": \"name\"}, {\"type\": \"quantitative\", \"field\": \"volume\"}, {\"type\": \"quantitative\", \"field\": \"cost\"}, {\"type\": \"quantitative\", \"field\": \"permanence\"}, {\"type\": \"quantitative\", \"field\": \"negativity\"}], \"x\": {\"type\": \"quantitative\", \"axis\": {\"tickCount\": 3, \"title\": \"COST $/tCO2\"}, \"field\": \"cost\", \"scale\": {\"domain\": [2, 2000], \"nice\": false, \"type\": \"log\"}}, \"y\": {\"type\": \"nominal\", \"axis\": {\"title\": \"\"}, \"field\": \"tag\"}}, \"height\": 250, \"selection\": {\"selector001\": {\"type\": \"interval\", \"encodings\": [\"x\", \"y\"]}, \"selector002\": {\"type\": \"multi\"}}, \"width\": 250}, {\"mark\": {\"type\": \"circle\", \"size\": 200}, \"encoding\": {\"color\": {\"type\": \"nominal\", \"field\": \"tag\", \"scale\": {\"domain\": [\"mineralization\", \"soil\", \"biomass\", \"forests\", \"ocean\", \"dac\"], \"range\": [\"#a9b4c4\", \"#ea9755\", \"#d4c05e\", \"#7eb36a\", \"#64b9c4\", \"#bc85d9\"]}}, \"opacity\": {\"condition\": {\"value\": 1, \"selection\": {\"or\": [\"selector001\", \"selector002\"]}}, \"value\": 0.4}, \"tooltip\": [{\"type\": \"nominal\", \"field\": \"name\"}, {\"type\": \"quantitative\", \"field\": \"volume\"}, {\"type\": \"quantitative\", \"field\": \"cost\"}, {\"type\": \"quantitative\", \"field\": \"permanence\"}, {\"type\": \"quantitative\", \"field\": \"negativity\"}], \"x\": {\"type\": \"quantitative\", \"axis\": {\"tickCount\": 3, \"title\": \"VOLUME tCO2\"}, \"field\": \"volume\", \"scale\": {\"domain\": [2, 100000000], \"type\": \"log\"}}, \"y\": {\"type\": \"nominal\", \"axis\": {\"title\": \"\"}, \"field\": \"tag\"}}, \"height\": 250, \"selection\": {\"selector001\": {\"type\": \"interval\", \"encodings\": [\"x\", \"y\"]}, \"selector002\": {\"type\": \"multi\"}}, \"width\": 250}, {\"mark\": {\"type\": \"circle\", \"size\": 200}, \"encoding\": {\"color\": {\"type\": \"nominal\", \"field\": \"tag\", \"scale\": {\"domain\": [\"mineralization\", \"soil\", \"biomass\", \"forests\", \"ocean\", \"dac\"], \"range\": [\"#a9b4c4\", \"#ea9755\", \"#d4c05e\", \"#7eb36a\", \"#64b9c4\", \"#bc85d9\"]}}, \"opacity\": {\"condition\": {\"value\": 1, \"selection\": {\"or\": [\"selector001\", \"selector002\"]}}, \"value\": 0.4}, \"tooltip\": [{\"type\": \"nominal\", \"field\": \"name\"}, {\"type\": \"quantitative\", \"field\": \"volume\"}, {\"type\": \"quantitative\", \"field\": \"cost\"}, {\"type\": \"quantitative\", \"field\": \"permanence\"}, {\"type\": \"quantitative\", \"field\": \"negativity\"}], \"x\": {\"type\": \"quantitative\", \"axis\": {\"tickCount\": 2, \"title\": \"NEGATIVITY\"}, \"field\": \"negativity\", \"scale\": {\"domain\": [-0.1, 1.1]}}, \"y\": {\"type\": \"nominal\", \"axis\": {\"title\": \"\"}, \"field\": \"tag\"}}, \"height\": 250, \"selection\": {\"selector001\": {\"type\": \"interval\", \"encodings\": [\"x\", \"y\"]}, \"selector002\": {\"type\": \"multi\"}}, \"width\": 250}, {\"mark\": {\"type\": \"circle\", \"size\": 200}, \"encoding\": {\"color\": {\"type\": \"nominal\", \"field\": \"tag\", \"scale\": {\"domain\": [\"mineralization\", \"soil\", \"biomass\", \"forests\", \"ocean\", \"dac\"], \"range\": [\"#a9b4c4\", \"#ea9755\", \"#d4c05e\", \"#7eb36a\", \"#64b9c4\", \"#bc85d9\"]}}, \"opacity\": {\"condition\": {\"value\": 1, \"selection\": {\"or\": [\"selector001\", \"selector002\"]}}, \"value\": 0.4}, \"tooltip\": [{\"type\": \"nominal\", \"field\": \"name\"}, {\"type\": \"quantitative\", \"field\": \"volume\"}, {\"type\": \"quantitative\", \"field\": \"cost\"}, {\"type\": \"quantitative\", \"field\": \"permanence\"}, {\"type\": \"quantitative\", \"field\": \"negativity\"}], \"x\": {\"type\": \"quantitative\", \"axis\": {\"tickCount\": 3, \"title\": \"PERMANENCE years\"}, \"field\": \"permanence\", \"scale\": {\"domain\": [0.6, 2000], \"nice\": false, \"type\": \"log\"}}, \"y\": {\"type\": \"nominal\", \"axis\": {\"title\": \"\"}, \"field\": \"tag\"}}, \"height\": 250, \"selection\": {\"selector001\": {\"type\": \"interval\", \"encodings\": [\"x\", \"y\"]}, \"selector002\": {\"type\": \"multi\"}}, \"width\": 250}], \"data\": {\"name\": \"data-7b87862da07e7f190abdacf9f24361f1\"}, \"resolve\": {\"scale\": {\"y\": \"shared\"}}, \"$schema\": \"https://vega.github.io/schema/vega-lite/v4.0.2.json\", \"datasets\": {\"data-7b87862da07e7f190abdacf9f24361f1\": [{\"name\": \"Climeworks\", \"cost\": 767.5, \"volume\": 50.0, \"negativity\": 0.9, \"permanence\": 1000.0, \"tag\": \"dac\"}, {\"name\": \"CarbonCure\", \"cost\": 100.0, \"volume\": 60000.0, \"negativity\": 0.8240000000000001, \"permanence\": 1000.0, \"tag\": \"mineralization\"}, {\"name\": \"Nori Harborview Farms\", \"cost\": 16.5, \"volume\": 14011.0, \"negativity\": null, \"permanence\": 10.0, \"tag\": \"soil\"}, {\"name\": \"Indigo Ag\", \"cost\": 20.0, \"volume\": 550000.0, \"negativity\": null, \"permanence\": 100.0, \"tag\": \"soil\"}, {\"name\": \"Biorecro\", \"cost\": 99.0, \"volume\": 50000.0, \"negativity\": 0.9, \"permanence\": 1000.0, \"tag\": \"biomass\"}, {\"name\": \"Carbo Culture\", \"cost\": 1000.0, \"volume\": 56.0, \"negativity\": 0.965, \"permanence\": 680.0, \"tag\": \"biomass\"}, {\"name\": \"Droneseed\", \"cost\": 8.23, \"volume\": 31027.0, \"negativity\": 1.0, \"permanence\": 51.0, \"tag\": \"forests\"}, {\"name\": \"Pachama Rip's Redwoods and Guanare\", \"cost\": 8.0, \"volume\": 165850.0, \"negativity\": 0.19, \"permanence\": 46.0, \"tag\": \"forests\"}, {\"name\": \"Ocean-based Climate Solutions\", \"cost\": 336.07, \"volume\": 693.0, \"negativity\": 0.995, \"permanence\": 1000.0, \"tag\": \"ocean\"}, {\"name\": \"Soil Value Exchange\", \"cost\": 30.0, \"volume\": 33000.0, \"negativity\": 0.5, \"permanence\": 10.0, \"tag\": \"soil\"}, {\"name\": \"GreenSand\", \"cost\": 35.0, \"volume\": 1000.0, \"negativity\": 0.74, \"permanence\": 1000.0, \"tag\": \"mineralization\"}, {\"name\": \"SilviaTerra\", \"cost\": 15.0, \"volume\": 15000000.0, \"negativity\": 0.9990000000000001, \"permanence\": 1.0, \"tag\": \"forests\"}, {\"name\": \"Breadtree Farms\", \"cost\": 4.14, \"volume\": 56.0, \"negativity\": 0.982, \"permanence\": 30.0, \"tag\": \"forests\"}, {\"name\": \"Ecoera\", \"cost\": 100.0, \"volume\": 4500.0, \"negativity\": 0.982, \"permanence\": 869.0, \"tag\": \"biomass\"}, {\"name\": \"Finnish Log House Industry Association\", \"cost\": 20.0, \"volume\": 25000.0, \"negativity\": 0.7759999999999999, \"permanence\": 50.0, \"tag\": \"biomass\"}, {\"name\": \"Ekovilla\", \"cost\": 21.5, \"volume\": 21847.0, \"negativity\": 0.935, \"permanence\": 50.0, \"tag\": \"biomass\"}, {\"name\": \"Carbofex\", \"cost\": 100.0, \"volume\": 2250.0, \"negativity\": 0.9440000000000001, \"permanence\": 807.0, \"tag\": \"biomass\"}, {\"name\": \"Vandersanden\", \"cost\": 20.0, \"volume\": 10.0, \"negativity\": 0.2, \"permanence\": 1000.0, \"tag\": \"mineralization\"}, {\"name\": \"Future Forest\", \"cost\": 20.0, \"volume\": 6380.0, \"negativity\": 0.995, \"permanence\": 60.0, \"tag\": \"forests\"}, {\"name\": \"Carbon Sequestration Inc\", \"cost\": 42.5, \"volume\": 71019.0, \"negativity\": 0.904, \"permanence\": 100.0, \"tag\": \"biomass\"}, {\"name\": \"Bluesource Doe Mountain\", \"cost\": 8.0, \"volume\": 631845.0, \"negativity\": 1.0, \"permanence\": 40.0, \"tag\": \"forests\"}, {\"name\": \"Rizome\", \"cost\": 10.0, \"volume\": 19700.0, \"negativity\": 0.98, \"permanence\": 50.0, \"tag\": \"forests\"}, {\"name\": \"Project Vesta\", \"cost\": 50.0, \"volume\": 200.0, \"negativity\": 0.961, \"permanence\": 1000.0, \"tag\": \"mineralization\"}, {\"name\": \"Charm Industrial\", \"cost\": 600.0, \"volume\": 10000.0, \"negativity\": 0.773, \"permanence\": 1000.0, \"tag\": \"biomass\"}]}}, {\"mode\": \"vega-lite\"});\n",
       "</script>"
      ],
      "text/plain": [
       "alt.HConcatChart(...)"
      ]
     },
     "execution_count": 9,
     "metadata": {},
     "output_type": "execute_result"
    }
   ],
   "source": [
    "# selectors\n",
    "brush = alt.selection_interval(encodings=['x', 'y'])\n",
    "click = alt.selection_multi()\n",
    "\n",
    "# chart\n",
    "chart = alt.Chart(metrics_df.reset_index()).mark_circle(size=200).encode(\n",
    "    color=color_scale,\n",
    "    opacity=alt.condition(brush | click, alt.OpacityValue(1), alt.OpacityValue(0.4)),\n",
    "    tooltip=tooltip\n",
    ").properties(\n",
    "    width=250,\n",
    "    height=250\n",
    ").add_selection(\n",
    "    brush, click\n",
    ")\n",
    "\n",
    "# hconcat\n",
    "(\n",
    "    chart.encode(\n",
    "        alt.X('cost', \n",
    "              axis=alt.Axis(title='COST $/tCO2', tickCount=3), \n",
    "              scale=alt.Scale(type='log', domain=[2, 2000], nice=False)),\n",
    "        alt.Y('tag', axis=alt.Axis(title=''))\n",
    "    ) |\n",
    "    chart.encode(\n",
    "        alt.X('volume', \n",
    "              axis=alt.Axis(title='VOLUME tCO2', tickCount=3), \n",
    "              scale=alt.Scale(type='log', domain=[2, 100000000])),\n",
    "        alt.Y('tag', axis=alt.Axis(title=''))\n",
    "    ) |\n",
    "    chart.encode(\n",
    "        alt.X('negativity', \n",
    "              axis=alt.Axis(title='NEGATIVITY', tickCount=2), \n",
    "              scale=alt.Scale(domain=[-0.1, 1.1])),\n",
    "        alt.Y('tag', axis=alt.Axis(title=''))\n",
    "    ) |\n",
    "    chart.encode(\n",
    "        alt.X('permanence', \n",
    "              axis=alt.Axis(title='PERMANENCE years', tickCount=3), \n",
    "              scale=alt.Scale(type='log', domain=[0.6, 2000], nice=False)),\n",
    "        alt.Y('tag', axis=alt.Axis(title='')))\n",
    ").configure_axis(grid=False).resolve_scale(\n",
    "    y='shared'\n",
    ")"
   ]
  },
  {
   "cell_type": "markdown",
   "metadata": {},
   "source": [
    "We can also explore interactions among variables:"
   ]
  },
  {
   "cell_type": "code",
   "execution_count": 10,
   "metadata": {},
   "outputs": [
    {
     "data": {
      "text/html": [
       "\n",
       "<div id=\"altair-viz-3a8d7bf6ec9e46c8b66df796ae9c0347\"></div>\n",
       "<script type=\"text/javascript\">\n",
       "  (function(spec, embedOpt){\n",
       "    const outputDiv = document.getElementById(\"altair-viz-3a8d7bf6ec9e46c8b66df796ae9c0347\");\n",
       "    const paths = {\n",
       "      \"vega\": \"https://cdn.jsdelivr.net/npm//vega@5?noext\",\n",
       "      \"vega-lib\": \"https://cdn.jsdelivr.net/npm//vega-lib?noext\",\n",
       "      \"vega-lite\": \"https://cdn.jsdelivr.net/npm//vega-lite@4.0.2?noext\",\n",
       "      \"vega-embed\": \"https://cdn.jsdelivr.net/npm//vega-embed@6?noext\",\n",
       "    };\n",
       "\n",
       "    function loadScript(lib) {\n",
       "      return new Promise(function(resolve, reject) {\n",
       "        var s = document.createElement('script');\n",
       "        s.src = paths[lib];\n",
       "        s.async = true;\n",
       "        s.onload = () => resolve(paths[lib]);\n",
       "        s.onerror = () => reject(`Error loading script: ${paths[lib]}`);\n",
       "        document.getElementsByTagName(\"head\")[0].appendChild(s);\n",
       "      });\n",
       "    }\n",
       "\n",
       "    function showError(err) {\n",
       "      outputDiv.innerHTML = `<div class=\"error\" style=\"color:red;\">${err}</div>`;\n",
       "      throw err;\n",
       "    }\n",
       "\n",
       "    function displayChart(vegaEmbed) {\n",
       "      vegaEmbed(outputDiv, spec, embedOpt)\n",
       "        .catch(err => showError(`Javascript Error: ${err.message}<br>This usually means there's a typo in your chart specification. See the javascript console for the full traceback.`));\n",
       "    }\n",
       "\n",
       "    if(typeof define === \"function\" && define.amd) {\n",
       "      requirejs.config({paths});\n",
       "      require([\"vega-embed\"], displayChart, err => showError(`Error loading script: ${err.message}`));\n",
       "    } else if (typeof vegaEmbed === \"function\") {\n",
       "      displayChart(vegaEmbed);\n",
       "    } else {\n",
       "      loadScript(\"vega\")\n",
       "        .then(() => loadScript(\"vega-lite\"))\n",
       "        .then(() => loadScript(\"vega-embed\"))\n",
       "        .catch(showError)\n",
       "        .then(() => displayChart(vegaEmbed));\n",
       "    }\n",
       "  })({\"config\": {\"view\": {\"continuousWidth\": 400, \"continuousHeight\": 300}, \"axis\": {\"grid\": false}}, \"hconcat\": [{\"mark\": {\"type\": \"circle\", \"size\": 200}, \"encoding\": {\"color\": {\"type\": \"nominal\", \"field\": \"tag\", \"scale\": {\"domain\": [\"mineralization\", \"soil\", \"biomass\", \"forests\", \"ocean\", \"dac\"], \"range\": [\"#a9b4c4\", \"#ea9755\", \"#d4c05e\", \"#7eb36a\", \"#64b9c4\", \"#bc85d9\"]}}, \"opacity\": {\"condition\": {\"value\": 1, \"selection\": {\"or\": [\"selector001\", \"selector002\"]}}, \"value\": 0.4}, \"tooltip\": [{\"type\": \"nominal\", \"field\": \"name\"}, {\"type\": \"quantitative\", \"field\": \"volume\"}, {\"type\": \"quantitative\", \"field\": \"cost\"}, {\"type\": \"quantitative\", \"field\": \"permanence\"}, {\"type\": \"quantitative\", \"field\": \"negativity\"}], \"x\": {\"type\": \"quantitative\", \"axis\": {\"tickCount\": 3, \"title\": \"VOLUME tCO2\"}, \"field\": \"volume\", \"scale\": {\"domain\": [2, 100000000], \"type\": \"log\"}}, \"y\": {\"type\": \"quantitative\", \"axis\": {\"tickCount\": 3, \"title\": \"COST $/tCO2\"}, \"field\": \"cost\", \"scale\": {\"domain\": [2, 2000], \"nice\": false, \"type\": \"log\"}}}, \"height\": 250, \"selection\": {\"selector001\": {\"type\": \"interval\", \"encodings\": [\"x\", \"y\"]}, \"selector002\": {\"type\": \"multi\"}}, \"width\": 250}, {\"mark\": {\"type\": \"circle\", \"size\": 200}, \"encoding\": {\"color\": {\"type\": \"nominal\", \"field\": \"tag\", \"scale\": {\"domain\": [\"mineralization\", \"soil\", \"biomass\", \"forests\", \"ocean\", \"dac\"], \"range\": [\"#a9b4c4\", \"#ea9755\", \"#d4c05e\", \"#7eb36a\", \"#64b9c4\", \"#bc85d9\"]}}, \"opacity\": {\"condition\": {\"value\": 1, \"selection\": {\"or\": [\"selector001\", \"selector002\"]}}, \"value\": 0.4}, \"tooltip\": [{\"type\": \"nominal\", \"field\": \"name\"}, {\"type\": \"quantitative\", \"field\": \"volume\"}, {\"type\": \"quantitative\", \"field\": \"cost\"}, {\"type\": \"quantitative\", \"field\": \"permanence\"}, {\"type\": \"quantitative\", \"field\": \"negativity\"}], \"x\": {\"type\": \"quantitative\", \"axis\": {\"tickCount\": 3, \"title\": \"PERMANENCE years\"}, \"field\": \"permanence\", \"scale\": {\"domain\": [0.6, 2000], \"nice\": false, \"type\": \"log\"}}, \"y\": {\"type\": \"quantitative\", \"axis\": {\"tickCount\": 3, \"title\": \"COST $/tCO2\"}, \"field\": \"cost\", \"scale\": {\"domain\": [2, 2000], \"nice\": false, \"type\": \"log\"}}}, \"height\": 250, \"selection\": {\"selector001\": {\"type\": \"interval\", \"encodings\": [\"x\", \"y\"]}, \"selector002\": {\"type\": \"multi\"}}, \"width\": 250}], \"data\": {\"name\": \"data-7b87862da07e7f190abdacf9f24361f1\"}, \"resolve\": {\"scale\": {\"y\": \"shared\"}}, \"$schema\": \"https://vega.github.io/schema/vega-lite/v4.0.2.json\", \"datasets\": {\"data-7b87862da07e7f190abdacf9f24361f1\": [{\"name\": \"Climeworks\", \"cost\": 767.5, \"volume\": 50.0, \"negativity\": 0.9, \"permanence\": 1000.0, \"tag\": \"dac\"}, {\"name\": \"CarbonCure\", \"cost\": 100.0, \"volume\": 60000.0, \"negativity\": 0.8240000000000001, \"permanence\": 1000.0, \"tag\": \"mineralization\"}, {\"name\": \"Nori Harborview Farms\", \"cost\": 16.5, \"volume\": 14011.0, \"negativity\": null, \"permanence\": 10.0, \"tag\": \"soil\"}, {\"name\": \"Indigo Ag\", \"cost\": 20.0, \"volume\": 550000.0, \"negativity\": null, \"permanence\": 100.0, \"tag\": \"soil\"}, {\"name\": \"Biorecro\", \"cost\": 99.0, \"volume\": 50000.0, \"negativity\": 0.9, \"permanence\": 1000.0, \"tag\": \"biomass\"}, {\"name\": \"Carbo Culture\", \"cost\": 1000.0, \"volume\": 56.0, \"negativity\": 0.965, \"permanence\": 680.0, \"tag\": \"biomass\"}, {\"name\": \"Droneseed\", \"cost\": 8.23, \"volume\": 31027.0, \"negativity\": 1.0, \"permanence\": 51.0, \"tag\": \"forests\"}, {\"name\": \"Pachama Rip's Redwoods and Guanare\", \"cost\": 8.0, \"volume\": 165850.0, \"negativity\": 0.19, \"permanence\": 46.0, \"tag\": \"forests\"}, {\"name\": \"Ocean-based Climate Solutions\", \"cost\": 336.07, \"volume\": 693.0, \"negativity\": 0.995, \"permanence\": 1000.0, \"tag\": \"ocean\"}, {\"name\": \"Soil Value Exchange\", \"cost\": 30.0, \"volume\": 33000.0, \"negativity\": 0.5, \"permanence\": 10.0, \"tag\": \"soil\"}, {\"name\": \"GreenSand\", \"cost\": 35.0, \"volume\": 1000.0, \"negativity\": 0.74, \"permanence\": 1000.0, \"tag\": \"mineralization\"}, {\"name\": \"SilviaTerra\", \"cost\": 15.0, \"volume\": 15000000.0, \"negativity\": 0.9990000000000001, \"permanence\": 1.0, \"tag\": \"forests\"}, {\"name\": \"Breadtree Farms\", \"cost\": 4.14, \"volume\": 56.0, \"negativity\": 0.982, \"permanence\": 30.0, \"tag\": \"forests\"}, {\"name\": \"Ecoera\", \"cost\": 100.0, \"volume\": 4500.0, \"negativity\": 0.982, \"permanence\": 869.0, \"tag\": \"biomass\"}, {\"name\": \"Finnish Log House Industry Association\", \"cost\": 20.0, \"volume\": 25000.0, \"negativity\": 0.7759999999999999, \"permanence\": 50.0, \"tag\": \"biomass\"}, {\"name\": \"Ekovilla\", \"cost\": 21.5, \"volume\": 21847.0, \"negativity\": 0.935, \"permanence\": 50.0, \"tag\": \"biomass\"}, {\"name\": \"Carbofex\", \"cost\": 100.0, \"volume\": 2250.0, \"negativity\": 0.9440000000000001, \"permanence\": 807.0, \"tag\": \"biomass\"}, {\"name\": \"Vandersanden\", \"cost\": 20.0, \"volume\": 10.0, \"negativity\": 0.2, \"permanence\": 1000.0, \"tag\": \"mineralization\"}, {\"name\": \"Future Forest\", \"cost\": 20.0, \"volume\": 6380.0, \"negativity\": 0.995, \"permanence\": 60.0, \"tag\": \"forests\"}, {\"name\": \"Carbon Sequestration Inc\", \"cost\": 42.5, \"volume\": 71019.0, \"negativity\": 0.904, \"permanence\": 100.0, \"tag\": \"biomass\"}, {\"name\": \"Bluesource Doe Mountain\", \"cost\": 8.0, \"volume\": 631845.0, \"negativity\": 1.0, \"permanence\": 40.0, \"tag\": \"forests\"}, {\"name\": \"Rizome\", \"cost\": 10.0, \"volume\": 19700.0, \"negativity\": 0.98, \"permanence\": 50.0, \"tag\": \"forests\"}, {\"name\": \"Project Vesta\", \"cost\": 50.0, \"volume\": 200.0, \"negativity\": 0.961, \"permanence\": 1000.0, \"tag\": \"mineralization\"}, {\"name\": \"Charm Industrial\", \"cost\": 600.0, \"volume\": 10000.0, \"negativity\": 0.773, \"permanence\": 1000.0, \"tag\": \"biomass\"}]}}, {\"mode\": \"vega-lite\"});\n",
       "</script>"
      ],
      "text/plain": [
       "alt.HConcatChart(...)"
      ]
     },
     "execution_count": 10,
     "metadata": {},
     "output_type": "execute_result"
    }
   ],
   "source": [
    "# chart\n",
    "chart = alt.Chart(metrics_df.reset_index()).mark_circle(size=200).encode(\n",
    "    color=color_scale,\n",
    "    opacity=alt.condition(brush | click, alt.OpacityValue(1), alt.OpacityValue(0.4)),\n",
    "    tooltip=tooltip\n",
    ").properties(\n",
    "    width=250,\n",
    "    height=250\n",
    ").add_selection(\n",
    "    brush, click\n",
    ")\n",
    "\n",
    "# hconcat\n",
    "(\n",
    "    chart.encode(\n",
    "        alt.X('volume', \n",
    "              axis=alt.Axis(title='VOLUME tCO2', tickCount=3), \n",
    "              scale=alt.Scale(type='log', domain=[2, 100000000])),\n",
    "        alt.Y('cost', \n",
    "              axis=alt.Axis(title='COST $/tCO2', tickCount=3), \n",
    "              scale=alt.Scale(type='log', domain=[2, 2000], nice=False)),\n",
    "    ) |\n",
    "    chart.encode(\n",
    "        alt.X('permanence', \n",
    "              axis=alt.Axis(title='PERMANENCE years', tickCount=3), \n",
    "              scale=alt.Scale(type='log', domain=[0.6, 2000], nice=False)),\n",
    "        alt.Y('cost', \n",
    "              axis=alt.Axis(title='COST $/tCO2', tickCount=3), \n",
    "              scale=alt.Scale(type='log', domain=[2, 2000], nice=False)))\n",
    ").configure_axis(grid=False).resolve_scale(\n",
    "    y='shared'\n",
    ")"
   ]
  }
 ],
 "metadata": {
  "kernelspec": {
   "display_name": "Python 3",
   "language": "python",
   "name": "python3"
  },
  "language_info": {
   "codemirror_mode": {
    "name": "ipython",
    "version": 3
   },
   "file_extension": ".py",
   "mimetype": "text/x-python",
   "name": "python",
   "nbconvert_exporter": "python",
   "pygments_lexer": "ipython3",
   "version": "3.8.2"
  }
 },
 "nbformat": 4,
 "nbformat_minor": 4
}
